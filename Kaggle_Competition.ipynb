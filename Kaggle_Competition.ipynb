{
  "cells": [
    {
      "cell_type": "code",
      "execution_count": 48,
      "metadata": {
        "id": "N0pgRWCQod8z"
      },
      "outputs": [],
      "source": [
        "# This cell is necessary only if you are running on Google Colab. It downloads the files to your\n",
        "# Colab instance so you don't have to upload them here.\n",
        "\n",
        "import requests\n",
        "\n",
        "def save_file(url, file_name):\n",
        "    r = requests.get(url)\n",
        "    with open(file_name, 'wb') as f:\n",
        "      f.write(r.content)\n",
        "\n",
        "save_file('https://courses.cs.washington.edu/courses/cse416/21sp/homework/hw6/edx_train.csv', \n",
        "          'edx_train.csv')\n",
        "save_file('https://courses.cs.washington.edu/courses/cse416/21sp/homework/hw6/edx_test.csv', \n",
        "          'edx_test.csv')"
      ]
    },
    {
      "cell_type": "markdown",
      "metadata": {
        "id": "il6um3e5ZoTE"
      },
      "source": [
        "**Classifier 1: Logistic Classifier**\n",
        "\n",
        "1. Pre-process the train dataset \n"
      ]
    },
    {
      "cell_type": "code",
      "execution_count": 49,
      "metadata": {
        "id": "PcQNs9e7ohkX"
      },
      "outputs": [],
      "source": [
        "import pandas as pd"
      ]
    },
    {
      "cell_type": "code",
      "execution_count": 50,
      "metadata": {
        "id": "z5tunMT6ovNw"
      },
      "outputs": [],
      "source": [
        "#read the \"edx_train\" dataset\n",
        "train_data = pd.read_csv('edx_train.csv')"
      ]
    },
    {
      "cell_type": "code",
      "execution_count": 51,
      "metadata": {
        "colab": {
          "base_uri": "https://localhost:8080/",
          "height": 224
        },
        "id": "09C1d5Plo3Vt",
        "outputId": "17ee0eca-64ba-41c1-b127-68e70da67233"
      },
      "outputs": [
        {
          "data": {
            "text/html": [
              "<div>\n",
              "<style scoped>\n",
              "    .dataframe tbody tr th:only-of-type {\n",
              "        vertical-align: middle;\n",
              "    }\n",
              "\n",
              "    .dataframe tbody tr th {\n",
              "        vertical-align: top;\n",
              "    }\n",
              "\n",
              "    .dataframe thead th {\n",
              "        text-align: right;\n",
              "    }\n",
              "</style>\n",
              "<table border=\"1\" class=\"dataframe\">\n",
              "  <thead>\n",
              "    <tr style=\"text-align: right;\">\n",
              "      <th></th>\n",
              "      <th>course_id</th>\n",
              "      <th>userid_DI</th>\n",
              "      <th>registered</th>\n",
              "      <th>viewed</th>\n",
              "      <th>explored</th>\n",
              "      <th>certified</th>\n",
              "      <th>final_cc_cname_DI</th>\n",
              "      <th>LoE_DI</th>\n",
              "      <th>YoB</th>\n",
              "      <th>gender</th>\n",
              "      <th>grade</th>\n",
              "      <th>start_time_DI</th>\n",
              "      <th>last_event_DI</th>\n",
              "      <th>nevents</th>\n",
              "      <th>ndays_act</th>\n",
              "      <th>nplay_video</th>\n",
              "      <th>nchapters</th>\n",
              "      <th>nforum_posts</th>\n",
              "    </tr>\n",
              "  </thead>\n",
              "  <tbody>\n",
              "    <tr>\n",
              "      <th>0</th>\n",
              "      <td>HarvardX/CS50x/2012</td>\n",
              "      <td>MHxPC130545492</td>\n",
              "      <td>1</td>\n",
              "      <td>1</td>\n",
              "      <td>1</td>\n",
              "      <td>1</td>\n",
              "      <td>United States</td>\n",
              "      <td>Master's</td>\n",
              "      <td>1984.0</td>\n",
              "      <td>m</td>\n",
              "      <td>1</td>\n",
              "      <td>3/10/13</td>\n",
              "      <td>7/29/13</td>\n",
              "      <td>1161.0</td>\n",
              "      <td>50.0</td>\n",
              "      <td>NaN</td>\n",
              "      <td>12.0</td>\n",
              "      <td>0</td>\n",
              "    </tr>\n",
              "    <tr>\n",
              "      <th>1</th>\n",
              "      <td>HarvardX/ER22x/2013_Spring</td>\n",
              "      <td>MHxPC130536944</td>\n",
              "      <td>1</td>\n",
              "      <td>1</td>\n",
              "      <td>1</td>\n",
              "      <td>1</td>\n",
              "      <td>United Kingdom</td>\n",
              "      <td>Master's</td>\n",
              "      <td>1985.0</td>\n",
              "      <td>f</td>\n",
              "      <td>0.85</td>\n",
              "      <td>3/13/13</td>\n",
              "      <td>8/1/13</td>\n",
              "      <td>1360.0</td>\n",
              "      <td>10.0</td>\n",
              "      <td>NaN</td>\n",
              "      <td>29.0</td>\n",
              "      <td>0</td>\n",
              "    </tr>\n",
              "    <tr>\n",
              "      <th>2</th>\n",
              "      <td>HarvardX/CS50x/2012</td>\n",
              "      <td>MHxPC130442298</td>\n",
              "      <td>1</td>\n",
              "      <td>1</td>\n",
              "      <td>1</td>\n",
              "      <td>1</td>\n",
              "      <td>India</td>\n",
              "      <td>NaN</td>\n",
              "      <td>NaN</td>\n",
              "      <td>NaN</td>\n",
              "      <td>1</td>\n",
              "      <td>8/2/12</td>\n",
              "      <td>7/25/13</td>\n",
              "      <td>77.0</td>\n",
              "      <td>18.0</td>\n",
              "      <td>NaN</td>\n",
              "      <td>7.0</td>\n",
              "      <td>0</td>\n",
              "    </tr>\n",
              "    <tr>\n",
              "      <th>3</th>\n",
              "      <td>HarvardX/ER22x/2013_Spring</td>\n",
              "      <td>MHxPC130273564</td>\n",
              "      <td>1</td>\n",
              "      <td>1</td>\n",
              "      <td>1</td>\n",
              "      <td>1</td>\n",
              "      <td>United Kingdom</td>\n",
              "      <td>Bachelor's</td>\n",
              "      <td>1982.0</td>\n",
              "      <td>m</td>\n",
              "      <td>0.85</td>\n",
              "      <td>1/23/13</td>\n",
              "      <td>8/13/13</td>\n",
              "      <td>1425.0</td>\n",
              "      <td>29.0</td>\n",
              "      <td>NaN</td>\n",
              "      <td>34.0</td>\n",
              "      <td>0</td>\n",
              "    </tr>\n",
              "    <tr>\n",
              "      <th>4</th>\n",
              "      <td>HarvardX/CS50x/2012</td>\n",
              "      <td>MHxPC130247761</td>\n",
              "      <td>1</td>\n",
              "      <td>1</td>\n",
              "      <td>0</td>\n",
              "      <td>0</td>\n",
              "      <td>United States</td>\n",
              "      <td>Secondary</td>\n",
              "      <td>1989.0</td>\n",
              "      <td>m</td>\n",
              "      <td>0</td>\n",
              "      <td>3/5/13</td>\n",
              "      <td>3/5/13</td>\n",
              "      <td>6.0</td>\n",
              "      <td>1.0</td>\n",
              "      <td>NaN</td>\n",
              "      <td>1.0</td>\n",
              "      <td>0</td>\n",
              "    </tr>\n",
              "  </tbody>\n",
              "</table>\n",
              "</div>"
            ],
            "text/plain": [
              "                    course_id       userid_DI  ...  nchapters  nforum_posts\n",
              "0         HarvardX/CS50x/2012  MHxPC130545492  ...       12.0             0\n",
              "1  HarvardX/ER22x/2013_Spring  MHxPC130536944  ...       29.0             0\n",
              "2         HarvardX/CS50x/2012  MHxPC130442298  ...        7.0             0\n",
              "3  HarvardX/ER22x/2013_Spring  MHxPC130273564  ...       34.0             0\n",
              "4         HarvardX/CS50x/2012  MHxPC130247761  ...        1.0             0\n",
              "\n",
              "[5 rows x 18 columns]"
            ]
          },
          "execution_count": 51,
          "metadata": {
            "tags": []
          },
          "output_type": "execute_result"
        }
      ],
      "source": [
        "# observe the first 5 rows of the dataset\n",
        "train_data.head()"
      ]
    },
    {
      "cell_type": "code",
      "execution_count": 52,
      "metadata": {
        "colab": {
          "base_uri": "https://localhost:8080/"
        },
        "id": "eCSBwngbsgAa",
        "outputId": "6129b1c6-bdbf-4e87-a8f5-98e88c0a4bf4"
      },
      "outputs": [
        {
          "name": "stdout",
          "output_type": "stream",
          "text": [
            "<class 'pandas.core.frame.DataFrame'>\n",
            "RangeIndex: 8758 entries, 0 to 8757\n",
            "Data columns (total 18 columns):\n",
            " #   Column             Non-Null Count  Dtype  \n",
            "---  ------             --------------  -----  \n",
            " 0   course_id          8758 non-null   object \n",
            " 1   userid_DI          8758 non-null   object \n",
            " 2   registered         8758 non-null   int64  \n",
            " 3   viewed             8758 non-null   int64  \n",
            " 4   explored           8758 non-null   int64  \n",
            " 5   certified          8758 non-null   int64  \n",
            " 6   final_cc_cname_DI  8758 non-null   object \n",
            " 7   LoE_DI             7792 non-null   object \n",
            " 8   YoB                7844 non-null   float64\n",
            " 9   gender             7983 non-null   object \n",
            " 10  grade              8388 non-null   object \n",
            " 11  start_time_DI      8758 non-null   object \n",
            " 12  last_event_DI      7250 non-null   object \n",
            " 13  nevents            7119 non-null   float64\n",
            " 14  ndays_act          7119 non-null   float64\n",
            " 15  nplay_video        2011 non-null   float64\n",
            " 16  nchapters          6195 non-null   float64\n",
            " 17  nforum_posts       8758 non-null   int64  \n",
            "dtypes: float64(5), int64(5), object(8)\n",
            "memory usage: 1.2+ MB\n"
          ]
        }
      ],
      "source": [
        "#get more information about the dataset\n",
        "train_data.info()"
      ]
    },
    {
      "cell_type": "code",
      "execution_count": 53,
      "metadata": {
        "colab": {
          "base_uri": "https://localhost:8080/"
        },
        "id": "BkiBKvvnuLDO",
        "outputId": "c9cac94a-60c8-4185-f6a3-ca8a210262f6"
      },
      "outputs": [
        {
          "data": {
            "text/plain": [
              "Index(['course_id', 'userid_DI', 'registered', 'viewed', 'explored',\n",
              "       'certified', 'final_cc_cname_DI', 'LoE_DI', 'YoB', 'gender', 'grade',\n",
              "       'start_time_DI', 'last_event_DI', 'nevents', 'ndays_act', 'nplay_video',\n",
              "       'nchapters', 'nforum_posts'],\n",
              "      dtype='object')"
            ]
          },
          "execution_count": 53,
          "metadata": {
            "tags": []
          },
          "output_type": "execute_result"
        }
      ],
      "source": [
        "# know the columns of the dataset\n",
        "train_data.columns"
      ]
    },
    {
      "cell_type": "code",
      "execution_count": 54,
      "metadata": {
        "id": "6GGZ7jqR8fXk"
      },
      "outputs": [],
      "source": [
        "#convert the data type of 'grade' from string to float\n",
        "train_data['grade'] = pd.to_numeric(train_data['grade'], errors='coerce')"
      ]
    },
    {
      "cell_type": "code",
      "execution_count": 55,
      "metadata": {
        "colab": {
          "base_uri": "https://localhost:8080/",
          "height": 296
        },
        "id": "IKTVJr0Gza-J",
        "outputId": "f6d1acae-62c1-485d-b690-5fe5eb62ae8a"
      },
      "outputs": [
        {
          "data": {
            "text/plain": [
              "<matplotlib.axes._subplots.AxesSubplot at 0x7f58847d2150>"
            ]
          },
          "execution_count": 55,
          "metadata": {
            "tags": []
          },
          "output_type": "execute_result"
        },
        {
          "data": {
            "image/png": "[encoded data removed]",
            "text/plain": [
              "<Figure size 432x288 with 1 Axes>"
            ]
          },
          "metadata": {
            "needs_background": "light",
            "tags": []
          },
          "output_type": "display_data"
        }
      ],
      "source": [
        "#explore the distribution of certified in the train dataset\n",
        "import seaborn as sns\n",
        "\n",
        "sns.countplot(x='certified', data=train_data)"
      ]
    },
    {
      "cell_type": "markdown",
      "metadata": {
        "id": "Hoqn5Tx2RYZ3"
      },
      "source": [
        "Insight Learned: From the graph above, we learned that in the train dataset, more than 50% of the IDs did not get certified. "
      ]
    },
    {
      "cell_type": "markdown",
      "metadata": {
        "id": "V5L0x_M7SQAo"
      },
      "source": [
        "**2. Create and process new dataset \"train_data_new\"**"
      ]
    },
    {
      "cell_type": "code",
      "execution_count": 56,
      "metadata": {
        "colab": {
          "base_uri": "https://localhost:8080/",
          "height": 224
        },
        "id": "Mdtj3BcY2kM_",
        "outputId": "fe84a1a4-6156-4410-913e-48105067b864"
      },
      "outputs": [
        {
          "data": {
            "text/html": [
              "<div>\n",
              "<style scoped>\n",
              "    .dataframe tbody tr th:only-of-type {\n",
              "        vertical-align: middle;\n",
              "    }\n",
              "\n",
              "    .dataframe tbody tr th {\n",
              "        vertical-align: top;\n",
              "    }\n",
              "\n",
              "    .dataframe thead th {\n",
              "        text-align: right;\n",
              "    }\n",
              "</style>\n",
              "<table border=\"1\" class=\"dataframe\">\n",
              "  <thead>\n",
              "    <tr style=\"text-align: right;\">\n",
              "      <th></th>\n",
              "      <th>course_id</th>\n",
              "      <th>registered</th>\n",
              "      <th>viewed</th>\n",
              "      <th>explored</th>\n",
              "      <th>final_cc_cname_DI</th>\n",
              "      <th>LoE_DI</th>\n",
              "      <th>YoB</th>\n",
              "      <th>gender</th>\n",
              "      <th>grade</th>\n",
              "      <th>nevents</th>\n",
              "      <th>ndays_act</th>\n",
              "      <th>nplay_video</th>\n",
              "      <th>nchapters</th>\n",
              "      <th>nforum_posts</th>\n",
              "      <th>certified</th>\n",
              "    </tr>\n",
              "  </thead>\n",
              "  <tbody>\n",
              "    <tr>\n",
              "      <th>0</th>\n",
              "      <td>HarvardX/CS50x/2012</td>\n",
              "      <td>1</td>\n",
              "      <td>1</td>\n",
              "      <td>1</td>\n",
              "      <td>United States</td>\n",
              "      <td>Master's</td>\n",
              "      <td>1984.0</td>\n",
              "      <td>m</td>\n",
              "      <td>1.00</td>\n",
              "      <td>1161.0</td>\n",
              "      <td>50.0</td>\n",
              "      <td>NaN</td>\n",
              "      <td>12.0</td>\n",
              "      <td>0</td>\n",
              "      <td>1</td>\n",
              "    </tr>\n",
              "    <tr>\n",
              "      <th>1</th>\n",
              "      <td>HarvardX/ER22x/2013_Spring</td>\n",
              "      <td>1</td>\n",
              "      <td>1</td>\n",
              "      <td>1</td>\n",
              "      <td>United Kingdom</td>\n",
              "      <td>Master's</td>\n",
              "      <td>1985.0</td>\n",
              "      <td>f</td>\n",
              "      <td>0.85</td>\n",
              "      <td>1360.0</td>\n",
              "      <td>10.0</td>\n",
              "      <td>NaN</td>\n",
              "      <td>29.0</td>\n",
              "      <td>0</td>\n",
              "      <td>1</td>\n",
              "    </tr>\n",
              "    <tr>\n",
              "      <th>2</th>\n",
              "      <td>HarvardX/CS50x/2012</td>\n",
              "      <td>1</td>\n",
              "      <td>1</td>\n",
              "      <td>1</td>\n",
              "      <td>India</td>\n",
              "      <td>NaN</td>\n",
              "      <td>NaN</td>\n",
              "      <td>NaN</td>\n",
              "      <td>1.00</td>\n",
              "      <td>77.0</td>\n",
              "      <td>18.0</td>\n",
              "      <td>NaN</td>\n",
              "      <td>7.0</td>\n",
              "      <td>0</td>\n",
              "      <td>1</td>\n",
              "    </tr>\n",
              "    <tr>\n",
              "      <th>3</th>\n",
              "      <td>HarvardX/ER22x/2013_Spring</td>\n",
              "      <td>1</td>\n",
              "      <td>1</td>\n",
              "      <td>1</td>\n",
              "      <td>United Kingdom</td>\n",
              "      <td>Bachelor's</td>\n",
              "      <td>1982.0</td>\n",
              "      <td>m</td>\n",
              "      <td>0.85</td>\n",
              "      <td>1425.0</td>\n",
              "      <td>29.0</td>\n",
              "      <td>NaN</td>\n",
              "      <td>34.0</td>\n",
              "      <td>0</td>\n",
              "      <td>1</td>\n",
              "    </tr>\n",
              "    <tr>\n",
              "      <th>4</th>\n",
              "      <td>HarvardX/CS50x/2012</td>\n",
              "      <td>1</td>\n",
              "      <td>1</td>\n",
              "      <td>0</td>\n",
              "      <td>United States</td>\n",
              "      <td>Secondary</td>\n",
              "      <td>1989.0</td>\n",
              "      <td>m</td>\n",
              "      <td>0.00</td>\n",
              "      <td>6.0</td>\n",
              "      <td>1.0</td>\n",
              "      <td>NaN</td>\n",
              "      <td>1.0</td>\n",
              "      <td>0</td>\n",
              "      <td>0</td>\n",
              "    </tr>\n",
              "  </tbody>\n",
              "</table>\n",
              "</div>"
            ],
            "text/plain": [
              "                    course_id  registered  ...  nforum_posts  certified\n",
              "0         HarvardX/CS50x/2012           1  ...             0          1\n",
              "1  HarvardX/ER22x/2013_Spring           1  ...             0          1\n",
              "2         HarvardX/CS50x/2012           1  ...             0          1\n",
              "3  HarvardX/ER22x/2013_Spring           1  ...             0          1\n",
              "4         HarvardX/CS50x/2012           1  ...             0          0\n",
              "\n",
              "[5 rows x 15 columns]"
            ]
          },
          "execution_count": 56,
          "metadata": {
            "tags": []
          },
          "output_type": "execute_result"
        }
      ],
      "source": [
        "#select features and create new dataframe 'train_data_new' using the selected features\n",
        "\n",
        "features = [\n",
        "            'course_id',\n",
        "            'registered',\n",
        "            'viewed',\n",
        "            'explored',\n",
        "            'final_cc_cname_DI',\n",
        "            'LoE_DI',\n",
        "            'YoB',\n",
        "            'gender',\n",
        "            'grade',\n",
        "            'nevents', \n",
        "            'ndays_act', \n",
        "            'nplay_video',\n",
        "            'nchapters', \n",
        "            'nforum_posts'\n",
        "            ]\n",
        "\n",
        "target = 'certified'\n",
        "\n",
        "#create new dataset \"train_data_new\" using the selected features and target\n",
        "train_data_new = train_data[features + [target]]\n",
        "\n",
        "#explore the first 5 rows of \"train_data_new\"\n",
        "train_data_new.head()\n"
      ]
    },
    {
      "cell_type": "code",
      "execution_count": 57,
      "metadata": {
        "colab": {
          "base_uri": "https://localhost:8080/"
        },
        "id": "KhDpT9ZOo5BB",
        "outputId": "71b71aff-681d-4d6a-e5c1-bf40c94647ec"
      },
      "outputs": [
        {
          "name": "stdout",
          "output_type": "stream",
          "text": [
            "['LoE_DI', 'YoB', 'gender', 'grade', 'nevents', 'ndays_act', 'nplay_video', 'nchapters']\n"
          ]
        }
      ],
      "source": [
        "#check missing values for columns in train_data_new\n",
        "\n",
        "nan_values = train_data_new.isna()\n",
        "nan_columns = nan_values.any()\n",
        "\n",
        "columns_with_nan = train_data_new.columns[nan_columns].tolist()\n",
        "print(columns_with_nan)"
      ]
    },
    {
      "cell_type": "code",
      "execution_count": 58,
      "metadata": {
        "colab": {
          "base_uri": "https://localhost:8080/"
        },
        "id": "sCu9ZIj7pJo4",
        "outputId": "dab29b6b-8cd9-480c-8cc5-7ff4c2d344e5"
      },
      "outputs": [
        {
          "name": "stderr",
          "output_type": "stream",
          "text": [
            "/usr/local/lib/python3.7/dist-packages/pandas/core/series.py:4536: SettingWithCopyWarning: \n",
            "A value is trying to be set on a copy of a slice from a DataFrame\n",
            "\n",
            "See the caveats in the documentation: https://pandas.pydata.org/pandas-docs/stable/user_guide/indexing.html#returning-a-view-versus-a-copy\n",
            "  downcast=downcast,\n"
          ]
        }
      ],
      "source": [
        "#deal with missing values in the train_data_new dataset\n",
        "\n",
        "import numpy as np\n",
        "\n",
        "#replace column \"YoB\", \"LoE_DI\", \"gender\" with mode \n",
        "train_data_new['YoB'].fillna(value=train_data_new['YoB'].mode()[0], inplace=True)\n",
        "train_data_new['LoE_DI'].fillna(value=train_data_new['LoE_DI'].mode()[0], inplace=True)\n",
        "train_data_new['gender'].fillna(value=train_data_new['gender'].mode()[0], inplace=True)\n",
        "\n",
        "\n",
        "#replace column \"grade\", 'nevents', 'ndays_act', 'nplay_video', 'nchapters' with mean\n",
        "train_data_new['grade'].fillna(value=train_data_new['grade'].mean(), inplace=True)\n",
        "\n",
        "train_data_new['nevents'].fillna(value=train_data_new['nevents'].mean(), inplace=True)\n",
        "\n",
        "train_data_new['ndays_act'].fillna(value=train_data_new['ndays_act'].mean(), inplace=True)\n",
        "\n",
        "train_data_new['nplay_video'].fillna(value=train_data_new['nplay_video'].mean(), inplace=True)\n",
        "\n",
        "train_data_new['nchapters'].fillna(value=train_data_new['nchapters'].mean(), inplace=True)"
      ]
    },
    {
      "cell_type": "code",
      "execution_count": 59,
      "metadata": {
        "colab": {
          "base_uri": "https://localhost:8080/"
        },
        "id": "mwaRVLip791V",
        "outputId": "f525c817-9b86-49c5-f1ab-13365733057a"
      },
      "outputs": [
        {
          "data": {
            "text/plain": [
              "['registered',\n",
              " 'viewed',\n",
              " 'explored',\n",
              " 'YoB',\n",
              " 'grade',\n",
              " 'nevents',\n",
              " 'ndays_act',\n",
              " 'nplay_video',\n",
              " 'nchapters',\n",
              " 'nforum_posts',\n",
              " 'course_id_HarvardX/CB22x/2013_Spring',\n",
              " 'course_id_HarvardX/CS50x/2012',\n",
              " 'course_id_HarvardX/ER22x/2013_Spring',\n",
              " 'course_id_HarvardX/PH207x/2012_Fall',\n",
              " 'course_id_HarvardX/PH278x/2013_Spring',\n",
              " 'final_cc_cname_DI_Australia',\n",
              " 'final_cc_cname_DI_Bangladesh',\n",
              " 'final_cc_cname_DI_Brazil',\n",
              " 'final_cc_cname_DI_Canada',\n",
              " 'final_cc_cname_DI_China',\n",
              " 'final_cc_cname_DI_Colombia',\n",
              " 'final_cc_cname_DI_Egypt',\n",
              " 'final_cc_cname_DI_France',\n",
              " 'final_cc_cname_DI_Germany',\n",
              " 'final_cc_cname_DI_Greece',\n",
              " 'final_cc_cname_DI_India',\n",
              " 'final_cc_cname_DI_Indonesia',\n",
              " 'final_cc_cname_DI_Japan',\n",
              " 'final_cc_cname_DI_Mexico',\n",
              " 'final_cc_cname_DI_Morocco',\n",
              " 'final_cc_cname_DI_Nigeria',\n",
              " 'final_cc_cname_DI_Other Africa',\n",
              " 'final_cc_cname_DI_Other East Asia',\n",
              " 'final_cc_cname_DI_Other Europe',\n",
              " 'final_cc_cname_DI_Other Middle East/Central Asia',\n",
              " 'final_cc_cname_DI_Other North & Central Amer., Caribbean',\n",
              " 'final_cc_cname_DI_Other Oceania',\n",
              " 'final_cc_cname_DI_Other South America',\n",
              " 'final_cc_cname_DI_Other South Asia',\n",
              " 'final_cc_cname_DI_Pakistan',\n",
              " 'final_cc_cname_DI_Philippines',\n",
              " 'final_cc_cname_DI_Poland',\n",
              " 'final_cc_cname_DI_Portugal',\n",
              " 'final_cc_cname_DI_Russian Federation',\n",
              " 'final_cc_cname_DI_Spain',\n",
              " 'final_cc_cname_DI_Ukraine',\n",
              " 'final_cc_cname_DI_United Kingdom',\n",
              " 'final_cc_cname_DI_United States',\n",
              " 'final_cc_cname_DI_Unknown/Other',\n",
              " \"LoE_DI_Bachelor's\",\n",
              " 'LoE_DI_Doctorate',\n",
              " 'LoE_DI_Less than Secondary',\n",
              " \"LoE_DI_Master's\",\n",
              " 'LoE_DI_Secondary',\n",
              " 'gender_f',\n",
              " 'gender_m']"
            ]
          },
          "execution_count": 59,
          "metadata": {
            "tags": []
          },
          "output_type": "execute_result"
        }
      ],
      "source": [
        "#since there are lots of categorical variables, I conduct one-hot encoding to turn a categorical feature into a series of binary numerical features\n",
        "\n",
        "train_data_new = pd.get_dummies(train_data_new)\n",
        "\n",
        "features = list(train_data_new.columns)\n",
        "\n",
        "features.remove('certified')\n",
        "\n",
        "features"
      ]
    },
    {
      "cell_type": "markdown",
      "metadata": {
        "id": "TQrJ8K2dZ6lY"
      },
      "source": [
        "**3. Run logistic regression classifier**"
      ]
    },
    {
      "cell_type": "code",
      "execution_count": 60,
      "metadata": {
        "id": "gqKLdfOS-3yK"
      },
      "outputs": [],
      "source": [
        "#set up the x and y \n",
        "X = train_data_new[features]\n",
        "\n",
        "y = train_data_new[target]\n",
        "\n",
        "#split train_data_new into train dataset and validation dataset, with validation being 10%, test being 20% and training being 70%\n",
        "\n",
        "from sklearn.model_selection import train_test_split\n",
        "\n",
        "X_train_val, X_test, y_train_val, y_test = train_test_split(X, y, test_size=0.20)\n",
        "X_train, X_validation, y_train, y_validation = train_test_split(X_train_val, y_train_val, test_size=0.125)\n"
      ]
    },
    {
      "cell_type": "code",
      "execution_count": 61,
      "metadata": {
        "colab": {
          "base_uri": "https://localhost:8080/"
        },
        "id": "N4cUywow2Cmz",
        "outputId": "3aa72b73-9b76-47e9-c426-fc9e319f98bf"
      },
      "outputs": [
        {
          "name": "stdout",
          "output_type": "stream",
          "text": [
            "[]\n"
          ]
        }
      ],
      "source": [
        "#again, check missing values for columns in train_data_new to ensure that all the missing values have been replaced\n",
        "\n",
        "nan_values = train_data_new.isna()\n",
        "nan_columns = nan_values.any()\n",
        "\n",
        "columns_with_nan = train_data_new.columns[nan_columns].tolist()\n",
        "print(columns_with_nan)"
      ]
    },
    {
      "cell_type": "code",
      "execution_count": 62,
      "metadata": {
        "id": "9RNdOm5CMIVU"
      },
      "outputs": [],
      "source": [
        "# Set up the regularization penalities to pick the most suitable penalty\n",
        "l2_penalties = [0.01, 1, 4, 10, 1e2, 1e3, 1e5]\n",
        "l2_penalty_names = [f'coefficients [L2={l2_penalty:.0e}]' \n",
        "                    for l2_penalty in l2_penalties]"
      ]
    },
    {
      "cell_type": "code",
      "execution_count": 63,
      "metadata": {
        "colab": {
          "base_uri": "https://localhost:8080/",
          "height": 946
        },
        "id": "fmtEyaKcMMDb",
        "outputId": "f4962dff-3974-4c10-9f64-c10811e40b1a"
      },
      "outputs": [
        {
          "name": "stderr",
          "output_type": "stream",
          "text": [
            "/usr/local/lib/python3.7/dist-packages/sklearn/linear_model/_logistic.py:940: ConvergenceWarning: lbfgs failed to converge (status=1):\n",
            "STOP: TOTAL NO. of ITERATIONS REACHED LIMIT.\n",
            "\n",
            "Increase the number of iterations (max_iter) or scale the data as shown in:\n",
            "    https://scikit-learn.org/stable/modules/preprocessing.html\n",
            "Please also refer to the documentation for alternative solver options:\n",
            "    https://scikit-learn.org/stable/modules/linear_model.html#logistic-regression\n",
            "  extra_warning_msg=_LOGISTIC_SOLVER_CONVERGENCE_MSG)\n",
            "/usr/local/lib/python3.7/dist-packages/sklearn/linear_model/_logistic.py:940: ConvergenceWarning: lbfgs failed to converge (status=1):\n",
            "STOP: TOTAL NO. of ITERATIONS REACHED LIMIT.\n",
            "\n",
            "Increase the number of iterations (max_iter) or scale the data as shown in:\n",
            "    https://scikit-learn.org/stable/modules/preprocessing.html\n",
            "Please also refer to the documentation for alternative solver options:\n",
            "    https://scikit-learn.org/stable/modules/linear_model.html#logistic-regression\n",
            "  extra_warning_msg=_LOGISTIC_SOLVER_CONVERGENCE_MSG)\n",
            "/usr/local/lib/python3.7/dist-packages/sklearn/linear_model/_logistic.py:940: ConvergenceWarning: lbfgs failed to converge (status=1):\n",
            "STOP: TOTAL NO. of ITERATIONS REACHED LIMIT.\n",
            "\n",
            "Increase the number of iterations (max_iter) or scale the data as shown in:\n",
            "    https://scikit-learn.org/stable/modules/preprocessing.html\n",
            "Please also refer to the documentation for alternative solver options:\n",
            "    https://scikit-learn.org/stable/modules/linear_model.html#logistic-regression\n",
            "  extra_warning_msg=_LOGISTIC_SOLVER_CONVERGENCE_MSG)\n",
            "/usr/local/lib/python3.7/dist-packages/sklearn/linear_model/_logistic.py:940: ConvergenceWarning: lbfgs failed to converge (status=1):\n",
            "STOP: TOTAL NO. of ITERATIONS REACHED LIMIT.\n",
            "\n",
            "Increase the number of iterations (max_iter) or scale the data as shown in:\n",
            "    https://scikit-learn.org/stable/modules/preprocessing.html\n",
            "Please also refer to the documentation for alternative solver options:\n",
            "    https://scikit-learn.org/stable/modules/linear_model.html#logistic-regression\n",
            "  extra_warning_msg=_LOGISTIC_SOLVER_CONVERGENCE_MSG)\n",
            "/usr/local/lib/python3.7/dist-packages/sklearn/linear_model/_logistic.py:940: ConvergenceWarning: lbfgs failed to converge (status=1):\n",
            "STOP: TOTAL NO. of ITERATIONS REACHED LIMIT.\n",
            "\n",
            "Increase the number of iterations (max_iter) or scale the data as shown in:\n",
            "    https://scikit-learn.org/stable/modules/preprocessing.html\n",
            "Please also refer to the documentation for alternative solver options:\n",
            "    https://scikit-learn.org/stable/modules/linear_model.html#logistic-regression\n",
            "  extra_warning_msg=_LOGISTIC_SOLVER_CONVERGENCE_MSG)\n"
          ]
        },
        {
          "data": {
            "text/html": [
              "<div>\n",
              "<style scoped>\n",
              "    .dataframe tbody tr th:only-of-type {\n",
              "        vertical-align: middle;\n",
              "    }\n",
              "\n",
              "    .dataframe tbody tr th {\n",
              "        vertical-align: top;\n",
              "    }\n",
              "\n",
              "    .dataframe thead th {\n",
              "        text-align: right;\n",
              "    }\n",
              "</style>\n",
              "<table border=\"1\" class=\"dataframe\">\n",
              "  <thead>\n",
              "    <tr style=\"text-align: right;\">\n",
              "      <th></th>\n",
              "      <th>l2_penalty</th>\n",
              "      <th>train_accuracy</th>\n",
              "      <th>validation_accuracy</th>\n",
              "    </tr>\n",
              "  </thead>\n",
              "  <tbody>\n",
              "    <tr>\n",
              "      <th>0</th>\n",
              "      <td>0.01</td>\n",
              "      <td>0.983524</td>\n",
              "      <td>0.987443</td>\n",
              "    </tr>\n",
              "    <tr>\n",
              "      <th>1</th>\n",
              "      <td>1.00</td>\n",
              "      <td>0.983687</td>\n",
              "      <td>0.985160</td>\n",
              "    </tr>\n",
              "    <tr>\n",
              "      <th>2</th>\n",
              "      <td>4.00</td>\n",
              "      <td>0.990049</td>\n",
              "      <td>0.992009</td>\n",
              "    </tr>\n",
              "    <tr>\n",
              "      <th>3</th>\n",
              "      <td>10.00</td>\n",
              "      <td>0.988744</td>\n",
              "      <td>0.989726</td>\n",
              "    </tr>\n",
              "    <tr>\n",
              "      <th>4</th>\n",
              "      <td>100.00</td>\n",
              "      <td>0.962806</td>\n",
              "      <td>0.972603</td>\n",
              "    </tr>\n",
              "    <tr>\n",
              "      <th>5</th>\n",
              "      <td>1000.00</td>\n",
              "      <td>0.924144</td>\n",
              "      <td>0.941781</td>\n",
              "    </tr>\n",
              "    <tr>\n",
              "      <th>6</th>\n",
              "      <td>100000.00</td>\n",
              "      <td>0.872920</td>\n",
              "      <td>0.886986</td>\n",
              "    </tr>\n",
              "  </tbody>\n",
              "</table>\n",
              "</div>"
            ],
            "text/plain": [
              "   l2_penalty  train_accuracy  validation_accuracy\n",
              "0        0.01        0.983524             0.987443\n",
              "1        1.00        0.983687             0.985160\n",
              "2        4.00        0.990049             0.992009\n",
              "3       10.00        0.988744             0.989726\n",
              "4      100.00        0.962806             0.972603\n",
              "5     1000.00        0.924144             0.941781\n",
              "6   100000.00        0.872920             0.886986"
            ]
          },
          "execution_count": 63,
          "metadata": {
            "tags": []
          },
          "output_type": "execute_result"
        }
      ],
      "source": [
        "#try different l2 penalties and generate a accuracy data table \n",
        "from sklearn.linear_model import LogisticRegression\n",
        "from sklearn.metrics import accuracy_score\n",
        "\n",
        "accuracy_data = []\n",
        "\n",
        "for l2_penalty, l2_penalty_column_name in zip(l2_penalties, l2_penalty_names):\n",
        "\n",
        "    #  Train the model \n",
        "    logistic_model = LogisticRegression(penalty = 'l2', C = 1/l2_penalty, fit_intercept = False).fit(X_train, y_train)\n",
        "    \n",
        "    #  Calculate and save the train and validation accuracies\n",
        "    model_pred_train = logistic_model.predict(X_train)\n",
        "    model_pred_validation = logistic_model.predict(X_validation)\n",
        "    model_train_accuracy = accuracy_score(y_train, model_pred_train)\n",
        "    model_validation_accuracy = accuracy_score(y_validation, model_pred_validation)\n",
        "    accuracy_data.append({'l2_penalty': l2_penalty,\n",
        "                           'train_accuracy': model_train_accuracy,\n",
        "                           'validation_accuracy': model_validation_accuracy\n",
        "                          })\n",
        "\n",
        "accuracies_table = pd.DataFrame(accuracy_data)\n",
        "\n",
        "accuracies_table"
      ]
    },
    {
      "cell_type": "markdown",
      "metadata": {
        "id": "UKY96R5NU_f-"
      },
      "source": [
        "Insights Learned: From the table above, we can find that with l2_penalty being 4, the validation_accuracy has the maximum value of 0.992009. Therefore, we should select 4 as the l2_penalty for our model. "
      ]
    },
    {
      "cell_type": "code",
      "execution_count": 64,
      "metadata": {
        "colab": {
          "base_uri": "https://localhost:8080/"
        },
        "id": "ldqOHLI3NgyX",
        "outputId": "84e2c0c5-edfe-48e7-bdc7-5a87ea053b41"
      },
      "outputs": [
        {
          "name": "stderr",
          "output_type": "stream",
          "text": [
            "/usr/local/lib/python3.7/dist-packages/sklearn/linear_model/_logistic.py:940: ConvergenceWarning: lbfgs failed to converge (status=1):\n",
            "STOP: TOTAL NO. of ITERATIONS REACHED LIMIT.\n",
            "\n",
            "Increase the number of iterations (max_iter) or scale the data as shown in:\n",
            "    https://scikit-learn.org/stable/modules/preprocessing.html\n",
            "Please also refer to the documentation for alternative solver options:\n",
            "    https://scikit-learn.org/stable/modules/linear_model.html#logistic-regression\n",
            "  extra_warning_msg=_LOGISTIC_SOLVER_CONVERGENCE_MSG)\n"
          ]
        }
      ],
      "source": [
        "# pick the l2 penalty with the highest validation accuracy\n",
        "\n",
        "logistic_model_1 = LogisticRegression (penalty = 'l2', C = 1/4, fit_intercept = False).fit(X_train, y_train)"
      ]
    },
    {
      "cell_type": "code",
      "execution_count": 65,
      "metadata": {
        "colab": {
          "base_uri": "https://localhost:8080/",
          "height": 265
        },
        "id": "qNBj2Bafnk7c",
        "outputId": "9a2f420a-65fb-4e69-b5e7-e6d70af31634"
      },
      "outputs": [
        {
          "data": {
            "image/png": "[encoded data removed]",
            "text/plain": [
              "<Figure size 432x288 with 2 Axes>"
            ]
          },
          "metadata": {
            "needs_background": "light",
            "tags": []
          },
          "output_type": "display_data"
        }
      ],
      "source": [
        "#use confusion matrix to estimate how this model will perform on the unseen data\n",
        "def plot_confusion_matrix(tp, fp, fn, tn):\n",
        "    \"\"\"\n",
        "    Plots a confusion matrix using the values \n",
        "       tp - True Positive\n",
        "       fp - False Positive\n",
        "       fn - False Negative\n",
        "       tn - True Negative\n",
        "    \"\"\"\n",
        "    data = np.matrix([[tp, fp], [fn, tn]])\n",
        "\n",
        "    sns.heatmap(data,annot=True,xticklabels=['Actual Pos', 'Actual Neg']\n",
        "              ,yticklabels=['Pred. Pos', 'Pred. Neg']) \n",
        "\n",
        "y_pred_test_log = logistic_model_1.predict(X_test)\n",
        "\n",
        "df_confusion = pd.crosstab(y_test, y_pred_test_log, rownames=['Actual'], colnames=['Predicted'])\n",
        "cnf_matrix=np.array(df_confusion)\n",
        "\n",
        "tp=cnf_matrix[1,1]\n",
        "\n",
        "tn=cnf_matrix[0,0]\n",
        "\n",
        "fp=cnf_matrix[0,1]\n",
        "\n",
        "fn=cnf_matrix[1,0]\n",
        "\n",
        "\n",
        "plot_confusion_matrix(tp, fp, fn, tn)"
      ]
    },
    {
      "cell_type": "markdown",
      "metadata": {
        "id": "ZtdwYhFXwaGK"
      },
      "source": [
        "Insights Learned: Confusion matrix helps to evaluate the model. From the matrix above, we can see that there are 14 false positive and 6 false negative. "
      ]
    },
    {
      "cell_type": "markdown",
      "metadata": {
        "id": "s9bHL895VVGw"
      },
      "source": [
        "**4. Process the test dataset**"
      ]
    },
    {
      "cell_type": "code",
      "execution_count": 66,
      "metadata": {
        "colab": {
          "base_uri": "https://localhost:8080/"
        },
        "id": "0ShfwtwlN0z9",
        "outputId": "579443e0-c310-44d8-d90e-67b5568b57c9"
      },
      "outputs": [
        {
          "name": "stdout",
          "output_type": "stream",
          "text": [
            "                     course_id       userid_DI  ...  nchapters  nforum_posts\n",
            "0          HarvardX/CS50x/2012  MHxPC130476531  ...       12.0             0\n",
            "1   HarvardX/CB22x/2013_Spring  MHxPC130559898  ...        NaN             0\n",
            "2    HarvardX/PH207x/2012_Fall  MHxPC130552712  ...       15.0             0\n",
            "3  HarvardX/PH278x/2013_Spring  MHxPC130394971  ...        8.0             0\n",
            "4   HarvardX/ER22x/2013_Spring  MHxPC130191077  ...       29.0             0\n",
            "\n",
            "[5 rows x 17 columns]\n",
            "<class 'pandas.core.frame.DataFrame'>\n",
            "RangeIndex: 2920 entries, 0 to 2919\n",
            "Data columns (total 17 columns):\n",
            " #   Column             Non-Null Count  Dtype  \n",
            "---  ------             --------------  -----  \n",
            " 0   course_id          2920 non-null   object \n",
            " 1   userid_DI          2920 non-null   object \n",
            " 2   registered         2920 non-null   int64  \n",
            " 3   viewed             2920 non-null   int64  \n",
            " 4   explored           2920 non-null   int64  \n",
            " 5   final_cc_cname_DI  2920 non-null   object \n",
            " 6   LoE_DI             2569 non-null   object \n",
            " 7   YoB                2610 non-null   float64\n",
            " 8   gender             2660 non-null   object \n",
            " 9   grade              2790 non-null   object \n",
            " 10  start_time_DI      2920 non-null   object \n",
            " 11  last_event_DI      2361 non-null   object \n",
            " 12  nevents            2319 non-null   float64\n",
            " 13  ndays_act          2319 non-null   float64\n",
            " 14  nplay_video        659 non-null    float64\n",
            " 15  nchapters          2012 non-null   float64\n",
            " 16  nforum_posts       2920 non-null   int64  \n",
            "dtypes: float64(5), int64(4), object(8)\n",
            "memory usage: 387.9+ KB\n",
            "None\n",
            "Index(['course_id', 'userid_DI', 'registered', 'viewed', 'explored',\n",
            "       'final_cc_cname_DI', 'LoE_DI', 'YoB', 'gender', 'grade',\n",
            "       'start_time_DI', 'last_event_DI', 'nevents', 'ndays_act', 'nplay_video',\n",
            "       'nchapters', 'nforum_posts'],\n",
            "      dtype='object')\n"
          ]
        }
      ],
      "source": [
        "# read the test dataset \n",
        "test_data = pd.read_csv('edx_test.csv')\n",
        "\n",
        "# explore the test dataset\n",
        "print(test_data.head())\n",
        "\n",
        "print(test_data.info())\n",
        "\n",
        "print(test_data.columns)"
      ]
    },
    {
      "cell_type": "code",
      "execution_count": 67,
      "metadata": {
        "id": "i45BotafO4iQ"
      },
      "outputs": [],
      "source": [
        "#convert the data type of 'grade' from string to float\n",
        "test_data['grade'] = pd.to_numeric(test_data['grade'], errors='coerce')"
      ]
    },
    {
      "cell_type": "code",
      "execution_count": 71,
      "metadata": {
        "colab": {
          "base_uri": "https://localhost:8080/",
          "height": 241
        },
        "id": "BvGqr3s6PfGz",
        "outputId": "fecc87ab-d854-470a-c273-f74a912726e6"
      },
      "outputs": [
        {
          "data": {
            "text/html": [
              "<div>\n",
              "<style scoped>\n",
              "    .dataframe tbody tr th:only-of-type {\n",
              "        vertical-align: middle;\n",
              "    }\n",
              "\n",
              "    .dataframe tbody tr th {\n",
              "        vertical-align: top;\n",
              "    }\n",
              "\n",
              "    .dataframe thead th {\n",
              "        text-align: right;\n",
              "    }\n",
              "</style>\n",
              "<table border=\"1\" class=\"dataframe\">\n",
              "  <thead>\n",
              "    <tr style=\"text-align: right;\">\n",
              "      <th></th>\n",
              "      <th>course_id</th>\n",
              "      <th>registered</th>\n",
              "      <th>viewed</th>\n",
              "      <th>explored</th>\n",
              "      <th>final_cc_cname_DI</th>\n",
              "      <th>LoE_DI</th>\n",
              "      <th>YoB</th>\n",
              "      <th>gender</th>\n",
              "      <th>grade</th>\n",
              "      <th>nevents</th>\n",
              "      <th>ndays_act</th>\n",
              "      <th>nplay_video</th>\n",
              "      <th>nchapters</th>\n",
              "      <th>nforum_posts</th>\n",
              "    </tr>\n",
              "  </thead>\n",
              "  <tbody>\n",
              "    <tr>\n",
              "      <th>0</th>\n",
              "      <td>HarvardX/CS50x/2012</td>\n",
              "      <td>1</td>\n",
              "      <td>1</td>\n",
              "      <td>1</td>\n",
              "      <td>United Kingdom</td>\n",
              "      <td>Secondary</td>\n",
              "      <td>1971.0</td>\n",
              "      <td>m</td>\n",
              "      <td>1.00</td>\n",
              "      <td>132.0</td>\n",
              "      <td>34.0</td>\n",
              "      <td>NaN</td>\n",
              "      <td>12.0</td>\n",
              "      <td>0</td>\n",
              "    </tr>\n",
              "    <tr>\n",
              "      <th>1</th>\n",
              "      <td>HarvardX/CB22x/2013_Spring</td>\n",
              "      <td>1</td>\n",
              "      <td>0</td>\n",
              "      <td>0</td>\n",
              "      <td>Other South Asia</td>\n",
              "      <td>Bachelor's</td>\n",
              "      <td>1984.0</td>\n",
              "      <td>m</td>\n",
              "      <td>NaN</td>\n",
              "      <td>NaN</td>\n",
              "      <td>NaN</td>\n",
              "      <td>NaN</td>\n",
              "      <td>NaN</td>\n",
              "      <td>0</td>\n",
              "    </tr>\n",
              "    <tr>\n",
              "      <th>2</th>\n",
              "      <td>HarvardX/PH207x/2012_Fall</td>\n",
              "      <td>1</td>\n",
              "      <td>1</td>\n",
              "      <td>1</td>\n",
              "      <td>Egypt</td>\n",
              "      <td>Bachelor's</td>\n",
              "      <td>1985.0</td>\n",
              "      <td>f</td>\n",
              "      <td>0.81</td>\n",
              "      <td>2650.0</td>\n",
              "      <td>32.0</td>\n",
              "      <td>96.0</td>\n",
              "      <td>15.0</td>\n",
              "      <td>0</td>\n",
              "    </tr>\n",
              "    <tr>\n",
              "      <th>3</th>\n",
              "      <td>HarvardX/PH278x/2013_Spring</td>\n",
              "      <td>1</td>\n",
              "      <td>1</td>\n",
              "      <td>1</td>\n",
              "      <td>Nigeria</td>\n",
              "      <td>Secondary</td>\n",
              "      <td>1988.0</td>\n",
              "      <td>m</td>\n",
              "      <td>0.87</td>\n",
              "      <td>999.0</td>\n",
              "      <td>17.0</td>\n",
              "      <td>13.0</td>\n",
              "      <td>8.0</td>\n",
              "      <td>0</td>\n",
              "    </tr>\n",
              "    <tr>\n",
              "      <th>4</th>\n",
              "      <td>HarvardX/ER22x/2013_Spring</td>\n",
              "      <td>1</td>\n",
              "      <td>1</td>\n",
              "      <td>1</td>\n",
              "      <td>Other Middle East/Central Asia</td>\n",
              "      <td>NaN</td>\n",
              "      <td>NaN</td>\n",
              "      <td>NaN</td>\n",
              "      <td>0.90</td>\n",
              "      <td>2130.0</td>\n",
              "      <td>24.0</td>\n",
              "      <td>NaN</td>\n",
              "      <td>29.0</td>\n",
              "      <td>0</td>\n",
              "    </tr>\n",
              "  </tbody>\n",
              "</table>\n",
              "</div>"
            ],
            "text/plain": [
              "                     course_id  registered  ...  nchapters  nforum_posts\n",
              "0          HarvardX/CS50x/2012           1  ...       12.0             0\n",
              "1   HarvardX/CB22x/2013_Spring           1  ...        NaN             0\n",
              "2    HarvardX/PH207x/2012_Fall           1  ...       15.0             0\n",
              "3  HarvardX/PH278x/2013_Spring           1  ...        8.0             0\n",
              "4   HarvardX/ER22x/2013_Spring           1  ...       29.0             0\n",
              "\n",
              "[5 rows x 14 columns]"
            ]
          },
          "execution_count": 71,
          "metadata": {
            "tags": []
          },
          "output_type": "execute_result"
        }
      ],
      "source": [
        "#select features for test_data\n",
        "\n",
        "features = [\n",
        "            'course_id',\n",
        "            'registered',\n",
        "            'viewed',\n",
        "            'explored',\n",
        "            'final_cc_cname_DI',\n",
        "            'LoE_DI',\n",
        "            'YoB',\n",
        "            'gender',\n",
        "            'grade',\n",
        "            'nevents', \n",
        "            'ndays_act', \n",
        "            'nplay_video',\n",
        "            'nchapters', \n",
        "            'nforum_posts'\n",
        "            ]\n",
        "\n",
        "test_data_new = test_data[features] \n",
        "\n",
        "test_data_new.head()"
      ]
    },
    {
      "cell_type": "code",
      "execution_count": 72,
      "metadata": {
        "colab": {
          "base_uri": "https://localhost:8080/"
        },
        "id": "sdBXoD_-PvfV",
        "outputId": "88b5c33c-d9f1-41a0-e39a-5600f8d88d27"
      },
      "outputs": [
        {
          "name": "stdout",
          "output_type": "stream",
          "text": [
            "['LoE_DI', 'YoB', 'gender', 'grade', 'nevents', 'ndays_act', 'nplay_video', 'nchapters']\n"
          ]
        }
      ],
      "source": [
        "#check missing values for columns in test_data_new\n",
        "\n",
        "nan_values = test_data_new.isna()\n",
        "nan_columns = nan_values.any()\n",
        "\n",
        "columns_with_nan = test_data_new.columns[nan_columns].tolist()\n",
        "print(columns_with_nan)"
      ]
    },
    {
      "cell_type": "code",
      "execution_count": 73,
      "metadata": {
        "colab": {
          "base_uri": "https://localhost:8080/"
        },
        "id": "s0LOZ20TRYc3",
        "outputId": "de05d1b2-0c84-4322-8125-5e317be4721b"
      },
      "outputs": [
        {
          "name": "stderr",
          "output_type": "stream",
          "text": [
            "/usr/local/lib/python3.7/dist-packages/pandas/core/series.py:4536: SettingWithCopyWarning: \n",
            "A value is trying to be set on a copy of a slice from a DataFrame\n",
            "\n",
            "See the caveats in the documentation: https://pandas.pydata.org/pandas-docs/stable/user_guide/indexing.html#returning-a-view-versus-a-copy\n",
            "  downcast=downcast,\n"
          ]
        }
      ],
      "source": [
        "#deal with nan values in the test_data_new dataset\n",
        "\n",
        "import numpy as np\n",
        "\n",
        "#replace column \"YoB\" with mode \n",
        "test_data_new['YoB'].fillna(value=test_data_new['YoB'].mode()[0], inplace=True)\n",
        "test_data_new['LoE_DI'].fillna(value=test_data_new['LoE_DI'].mode()[0], inplace=True)\n",
        "test_data_new['gender'].fillna(value=test_data_new['gender'].mode()[0], inplace=True)\n",
        "\n",
        "#replace column \"grade\", 'nevents', 'ndays_act', 'nplay_video', 'nchapters' with mean\n",
        "test_data_new['grade'].fillna(value=test_data_new['grade'].mean(), inplace=True)\n",
        "\n",
        "test_data_new['nevents'].fillna(value=test_data_new['nevents'].mean(), inplace=True)\n",
        "\n",
        "test_data_new['ndays_act'].fillna(value=test_data_new['ndays_act'].mean(), inplace=True)\n",
        "\n",
        "test_data_new['nplay_video'].fillna(value=test_data_new['nplay_video'].mean(), inplace=True)\n",
        "\n",
        "test_data_new['nchapters'].fillna(value=test_data_new['nchapters'].mean(), inplace=True)"
      ]
    },
    {
      "cell_type": "code",
      "execution_count": 74,
      "metadata": {
        "colab": {
          "base_uri": "https://localhost:8080/",
          "height": 258
        },
        "id": "hDcbWV12SHam",
        "outputId": "8544edea-62a4-4478-e2bc-8a0161858aa4"
      },
      "outputs": [
        {
          "data": {
            "text/html": [
              "<div>\n",
              "<style scoped>\n",
              "    .dataframe tbody tr th:only-of-type {\n",
              "        vertical-align: middle;\n",
              "    }\n",
              "\n",
              "    .dataframe tbody tr th {\n",
              "        vertical-align: top;\n",
              "    }\n",
              "\n",
              "    .dataframe thead th {\n",
              "        text-align: right;\n",
              "    }\n",
              "</style>\n",
              "<table border=\"1\" class=\"dataframe\">\n",
              "  <thead>\n",
              "    <tr style=\"text-align: right;\">\n",
              "      <th></th>\n",
              "      <th>registered</th>\n",
              "      <th>viewed</th>\n",
              "      <th>explored</th>\n",
              "      <th>YoB</th>\n",
              "      <th>grade</th>\n",
              "      <th>nevents</th>\n",
              "      <th>ndays_act</th>\n",
              "      <th>nplay_video</th>\n",
              "      <th>nchapters</th>\n",
              "      <th>nforum_posts</th>\n",
              "      <th>course_id_HarvardX/CB22x/2013_Spring</th>\n",
              "      <th>course_id_HarvardX/CS50x/2012</th>\n",
              "      <th>course_id_HarvardX/ER22x/2013_Spring</th>\n",
              "      <th>course_id_HarvardX/PH207x/2012_Fall</th>\n",
              "      <th>course_id_HarvardX/PH278x/2013_Spring</th>\n",
              "      <th>final_cc_cname_DI_Australia</th>\n",
              "      <th>final_cc_cname_DI_Bangladesh</th>\n",
              "      <th>final_cc_cname_DI_Brazil</th>\n",
              "      <th>final_cc_cname_DI_Canada</th>\n",
              "      <th>final_cc_cname_DI_China</th>\n",
              "      <th>final_cc_cname_DI_Colombia</th>\n",
              "      <th>final_cc_cname_DI_Egypt</th>\n",
              "      <th>final_cc_cname_DI_France</th>\n",
              "      <th>final_cc_cname_DI_Germany</th>\n",
              "      <th>final_cc_cname_DI_Greece</th>\n",
              "      <th>final_cc_cname_DI_India</th>\n",
              "      <th>final_cc_cname_DI_Indonesia</th>\n",
              "      <th>final_cc_cname_DI_Japan</th>\n",
              "      <th>final_cc_cname_DI_Mexico</th>\n",
              "      <th>final_cc_cname_DI_Morocco</th>\n",
              "      <th>final_cc_cname_DI_Nigeria</th>\n",
              "      <th>final_cc_cname_DI_Other Africa</th>\n",
              "      <th>final_cc_cname_DI_Other East Asia</th>\n",
              "      <th>final_cc_cname_DI_Other Europe</th>\n",
              "      <th>final_cc_cname_DI_Other Middle East/Central Asia</th>\n",
              "      <th>final_cc_cname_DI_Other North &amp; Central Amer., Caribbean</th>\n",
              "      <th>final_cc_cname_DI_Other Oceania</th>\n",
              "      <th>final_cc_cname_DI_Other South America</th>\n",
              "      <th>final_cc_cname_DI_Other South Asia</th>\n",
              "      <th>final_cc_cname_DI_Pakistan</th>\n",
              "      <th>final_cc_cname_DI_Philippines</th>\n",
              "      <th>final_cc_cname_DI_Poland</th>\n",
              "      <th>final_cc_cname_DI_Portugal</th>\n",
              "      <th>final_cc_cname_DI_Russian Federation</th>\n",
              "      <th>final_cc_cname_DI_Spain</th>\n",
              "      <th>final_cc_cname_DI_Ukraine</th>\n",
              "      <th>final_cc_cname_DI_United Kingdom</th>\n",
              "      <th>final_cc_cname_DI_United States</th>\n",
              "      <th>final_cc_cname_DI_Unknown/Other</th>\n",
              "      <th>LoE_DI_Bachelor's</th>\n",
              "      <th>LoE_DI_Doctorate</th>\n",
              "      <th>LoE_DI_Less than Secondary</th>\n",
              "      <th>LoE_DI_Master's</th>\n",
              "      <th>LoE_DI_Secondary</th>\n",
              "      <th>gender_f</th>\n",
              "      <th>gender_m</th>\n",
              "    </tr>\n",
              "  </thead>\n",
              "  <tbody>\n",
              "    <tr>\n",
              "      <th>0</th>\n",
              "      <td>1</td>\n",
              "      <td>1</td>\n",
              "      <td>1</td>\n",
              "      <td>1971.0</td>\n",
              "      <td>1.000000</td>\n",
              "      <td>132.000000</td>\n",
              "      <td>34.000000</td>\n",
              "      <td>682.412747</td>\n",
              "      <td>12.000000</td>\n",
              "      <td>0</td>\n",
              "      <td>0</td>\n",
              "      <td>1</td>\n",
              "      <td>0</td>\n",
              "      <td>0</td>\n",
              "      <td>0</td>\n",
              "      <td>0</td>\n",
              "      <td>0</td>\n",
              "      <td>0</td>\n",
              "      <td>0</td>\n",
              "      <td>0</td>\n",
              "      <td>0</td>\n",
              "      <td>0</td>\n",
              "      <td>0</td>\n",
              "      <td>0</td>\n",
              "      <td>0</td>\n",
              "      <td>0</td>\n",
              "      <td>0</td>\n",
              "      <td>0</td>\n",
              "      <td>0</td>\n",
              "      <td>0</td>\n",
              "      <td>0</td>\n",
              "      <td>0</td>\n",
              "      <td>0</td>\n",
              "      <td>0</td>\n",
              "      <td>0</td>\n",
              "      <td>0</td>\n",
              "      <td>0</td>\n",
              "      <td>0</td>\n",
              "      <td>0</td>\n",
              "      <td>0</td>\n",
              "      <td>0</td>\n",
              "      <td>0</td>\n",
              "      <td>0</td>\n",
              "      <td>0</td>\n",
              "      <td>0</td>\n",
              "      <td>0</td>\n",
              "      <td>1</td>\n",
              "      <td>0</td>\n",
              "      <td>0</td>\n",
              "      <td>0</td>\n",
              "      <td>0</td>\n",
              "      <td>0</td>\n",
              "      <td>0</td>\n",
              "      <td>1</td>\n",
              "      <td>0</td>\n",
              "      <td>1</td>\n",
              "    </tr>\n",
              "    <tr>\n",
              "      <th>1</th>\n",
              "      <td>1</td>\n",
              "      <td>0</td>\n",
              "      <td>0</td>\n",
              "      <td>1984.0</td>\n",
              "      <td>0.395892</td>\n",
              "      <td>1541.620957</td>\n",
              "      <td>19.250108</td>\n",
              "      <td>682.412747</td>\n",
              "      <td>12.493042</td>\n",
              "      <td>0</td>\n",
              "      <td>1</td>\n",
              "      <td>0</td>\n",
              "      <td>0</td>\n",
              "      <td>0</td>\n",
              "      <td>0</td>\n",
              "      <td>0</td>\n",
              "      <td>0</td>\n",
              "      <td>0</td>\n",
              "      <td>0</td>\n",
              "      <td>0</td>\n",
              "      <td>0</td>\n",
              "      <td>0</td>\n",
              "      <td>0</td>\n",
              "      <td>0</td>\n",
              "      <td>0</td>\n",
              "      <td>0</td>\n",
              "      <td>0</td>\n",
              "      <td>0</td>\n",
              "      <td>0</td>\n",
              "      <td>0</td>\n",
              "      <td>0</td>\n",
              "      <td>0</td>\n",
              "      <td>0</td>\n",
              "      <td>0</td>\n",
              "      <td>0</td>\n",
              "      <td>0</td>\n",
              "      <td>0</td>\n",
              "      <td>0</td>\n",
              "      <td>1</td>\n",
              "      <td>0</td>\n",
              "      <td>0</td>\n",
              "      <td>0</td>\n",
              "      <td>0</td>\n",
              "      <td>0</td>\n",
              "      <td>0</td>\n",
              "      <td>0</td>\n",
              "      <td>0</td>\n",
              "      <td>0</td>\n",
              "      <td>0</td>\n",
              "      <td>1</td>\n",
              "      <td>0</td>\n",
              "      <td>0</td>\n",
              "      <td>0</td>\n",
              "      <td>0</td>\n",
              "      <td>0</td>\n",
              "      <td>1</td>\n",
              "    </tr>\n",
              "    <tr>\n",
              "      <th>2</th>\n",
              "      <td>1</td>\n",
              "      <td>1</td>\n",
              "      <td>1</td>\n",
              "      <td>1985.0</td>\n",
              "      <td>0.810000</td>\n",
              "      <td>2650.000000</td>\n",
              "      <td>32.000000</td>\n",
              "      <td>96.000000</td>\n",
              "      <td>15.000000</td>\n",
              "      <td>0</td>\n",
              "      <td>0</td>\n",
              "      <td>0</td>\n",
              "      <td>0</td>\n",
              "      <td>1</td>\n",
              "      <td>0</td>\n",
              "      <td>0</td>\n",
              "      <td>0</td>\n",
              "      <td>0</td>\n",
              "      <td>0</td>\n",
              "      <td>0</td>\n",
              "      <td>0</td>\n",
              "      <td>1</td>\n",
              "      <td>0</td>\n",
              "      <td>0</td>\n",
              "      <td>0</td>\n",
              "      <td>0</td>\n",
              "      <td>0</td>\n",
              "      <td>0</td>\n",
              "      <td>0</td>\n",
              "      <td>0</td>\n",
              "      <td>0</td>\n",
              "      <td>0</td>\n",
              "      <td>0</td>\n",
              "      <td>0</td>\n",
              "      <td>0</td>\n",
              "      <td>0</td>\n",
              "      <td>0</td>\n",
              "      <td>0</td>\n",
              "      <td>0</td>\n",
              "      <td>0</td>\n",
              "      <td>0</td>\n",
              "      <td>0</td>\n",
              "      <td>0</td>\n",
              "      <td>0</td>\n",
              "      <td>0</td>\n",
              "      <td>0</td>\n",
              "      <td>0</td>\n",
              "      <td>0</td>\n",
              "      <td>0</td>\n",
              "      <td>1</td>\n",
              "      <td>0</td>\n",
              "      <td>0</td>\n",
              "      <td>0</td>\n",
              "      <td>0</td>\n",
              "      <td>1</td>\n",
              "      <td>0</td>\n",
              "    </tr>\n",
              "    <tr>\n",
              "      <th>3</th>\n",
              "      <td>1</td>\n",
              "      <td>1</td>\n",
              "      <td>1</td>\n",
              "      <td>1988.0</td>\n",
              "      <td>0.870000</td>\n",
              "      <td>999.000000</td>\n",
              "      <td>17.000000</td>\n",
              "      <td>13.000000</td>\n",
              "      <td>8.000000</td>\n",
              "      <td>0</td>\n",
              "      <td>0</td>\n",
              "      <td>0</td>\n",
              "      <td>0</td>\n",
              "      <td>0</td>\n",
              "      <td>1</td>\n",
              "      <td>0</td>\n",
              "      <td>0</td>\n",
              "      <td>0</td>\n",
              "      <td>0</td>\n",
              "      <td>0</td>\n",
              "      <td>0</td>\n",
              "      <td>0</td>\n",
              "      <td>0</td>\n",
              "      <td>0</td>\n",
              "      <td>0</td>\n",
              "      <td>0</td>\n",
              "      <td>0</td>\n",
              "      <td>0</td>\n",
              "      <td>0</td>\n",
              "      <td>0</td>\n",
              "      <td>1</td>\n",
              "      <td>0</td>\n",
              "      <td>0</td>\n",
              "      <td>0</td>\n",
              "      <td>0</td>\n",
              "      <td>0</td>\n",
              "      <td>0</td>\n",
              "      <td>0</td>\n",
              "      <td>0</td>\n",
              "      <td>0</td>\n",
              "      <td>0</td>\n",
              "      <td>0</td>\n",
              "      <td>0</td>\n",
              "      <td>0</td>\n",
              "      <td>0</td>\n",
              "      <td>0</td>\n",
              "      <td>0</td>\n",
              "      <td>0</td>\n",
              "      <td>0</td>\n",
              "      <td>0</td>\n",
              "      <td>0</td>\n",
              "      <td>0</td>\n",
              "      <td>0</td>\n",
              "      <td>1</td>\n",
              "      <td>0</td>\n",
              "      <td>1</td>\n",
              "    </tr>\n",
              "    <tr>\n",
              "      <th>4</th>\n",
              "      <td>1</td>\n",
              "      <td>1</td>\n",
              "      <td>1</td>\n",
              "      <td>1990.0</td>\n",
              "      <td>0.900000</td>\n",
              "      <td>2130.000000</td>\n",
              "      <td>24.000000</td>\n",
              "      <td>682.412747</td>\n",
              "      <td>29.000000</td>\n",
              "      <td>0</td>\n",
              "      <td>0</td>\n",
              "      <td>0</td>\n",
              "      <td>1</td>\n",
              "      <td>0</td>\n",
              "      <td>0</td>\n",
              "      <td>0</td>\n",
              "      <td>0</td>\n",
              "      <td>0</td>\n",
              "      <td>0</td>\n",
              "      <td>0</td>\n",
              "      <td>0</td>\n",
              "      <td>0</td>\n",
              "      <td>0</td>\n",
              "      <td>0</td>\n",
              "      <td>0</td>\n",
              "      <td>0</td>\n",
              "      <td>0</td>\n",
              "      <td>0</td>\n",
              "      <td>0</td>\n",
              "      <td>0</td>\n",
              "      <td>0</td>\n",
              "      <td>0</td>\n",
              "      <td>0</td>\n",
              "      <td>0</td>\n",
              "      <td>1</td>\n",
              "      <td>0</td>\n",
              "      <td>0</td>\n",
              "      <td>0</td>\n",
              "      <td>0</td>\n",
              "      <td>0</td>\n",
              "      <td>0</td>\n",
              "      <td>0</td>\n",
              "      <td>0</td>\n",
              "      <td>0</td>\n",
              "      <td>0</td>\n",
              "      <td>0</td>\n",
              "      <td>0</td>\n",
              "      <td>0</td>\n",
              "      <td>0</td>\n",
              "      <td>1</td>\n",
              "      <td>0</td>\n",
              "      <td>0</td>\n",
              "      <td>0</td>\n",
              "      <td>0</td>\n",
              "      <td>0</td>\n",
              "      <td>1</td>\n",
              "    </tr>\n",
              "  </tbody>\n",
              "</table>\n",
              "</div>"
            ],
            "text/plain": [
              "   registered  viewed  explored  ...  LoE_DI_Secondary  gender_f  gender_m\n",
              "0           1       1         1  ...                 1         0         1\n",
              "1           1       0         0  ...                 0         0         1\n",
              "2           1       1         1  ...                 0         1         0\n",
              "3           1       1         1  ...                 1         0         1\n",
              "4           1       1         1  ...                 0         0         1\n",
              "\n",
              "[5 rows x 56 columns]"
            ]
          },
          "execution_count": 74,
          "metadata": {
            "tags": []
          },
          "output_type": "execute_result"
        }
      ],
      "source": [
        "#use one-hot encoding to turn a categorical feature into a series of binary numerical features \n",
        "test_data_new = pd.get_dummies(test_data_new)\n",
        "\n",
        "features_test = list(test_data_new.columns)\n",
        "\n",
        "test_data_new.head()"
      ]
    },
    {
      "cell_type": "markdown",
      "metadata": {
        "id": "5YddNGwiaJsJ"
      },
      "source": [
        "**5. Make predictions using the features in test dataset**"
      ]
    },
    {
      "cell_type": "code",
      "execution_count": 75,
      "metadata": {
        "id": "pp8t1hVBSWKH"
      },
      "outputs": [],
      "source": [
        "#use the test data to make predictions\n",
        "y_pred_test = logistic_model_1.predict(test_data_new[features_test])"
      ]
    },
    {
      "cell_type": "code",
      "execution_count": 76,
      "metadata": {
        "id": "cwUGky_ySvEJ"
      },
      "outputs": [],
      "source": [
        "#add the predictions back to the original dataset\n",
        "test_data ['certified'] = y_pred_test"
      ]
    },
    {
      "cell_type": "code",
      "execution_count": 77,
      "metadata": {
        "colab": {
          "base_uri": "https://localhost:8080/",
          "height": 241
        },
        "id": "ktB7VlfdS1oQ",
        "outputId": "a430a5d2-b99d-478a-9850-04ff1edaf514"
      },
      "outputs": [
        {
          "data": {
            "text/html": [
              "<div>\n",
              "<style scoped>\n",
              "    .dataframe tbody tr th:only-of-type {\n",
              "        vertical-align: middle;\n",
              "    }\n",
              "\n",
              "    .dataframe tbody tr th {\n",
              "        vertical-align: top;\n",
              "    }\n",
              "\n",
              "    .dataframe thead th {\n",
              "        text-align: right;\n",
              "    }\n",
              "</style>\n",
              "<table border=\"1\" class=\"dataframe\">\n",
              "  <thead>\n",
              "    <tr style=\"text-align: right;\">\n",
              "      <th></th>\n",
              "      <th>course_id</th>\n",
              "      <th>userid_DI</th>\n",
              "      <th>registered</th>\n",
              "      <th>viewed</th>\n",
              "      <th>explored</th>\n",
              "      <th>final_cc_cname_DI</th>\n",
              "      <th>LoE_DI</th>\n",
              "      <th>YoB</th>\n",
              "      <th>gender</th>\n",
              "      <th>grade</th>\n",
              "      <th>start_time_DI</th>\n",
              "      <th>last_event_DI</th>\n",
              "      <th>nevents</th>\n",
              "      <th>ndays_act</th>\n",
              "      <th>nplay_video</th>\n",
              "      <th>nchapters</th>\n",
              "      <th>nforum_posts</th>\n",
              "      <th>certified</th>\n",
              "    </tr>\n",
              "  </thead>\n",
              "  <tbody>\n",
              "    <tr>\n",
              "      <th>0</th>\n",
              "      <td>HarvardX/CS50x/2012</td>\n",
              "      <td>MHxPC130476531</td>\n",
              "      <td>1</td>\n",
              "      <td>1</td>\n",
              "      <td>1</td>\n",
              "      <td>United Kingdom</td>\n",
              "      <td>Secondary</td>\n",
              "      <td>1971.0</td>\n",
              "      <td>m</td>\n",
              "      <td>1.00</td>\n",
              "      <td>10/30/12</td>\n",
              "      <td>6/27/13</td>\n",
              "      <td>132.0</td>\n",
              "      <td>34.0</td>\n",
              "      <td>NaN</td>\n",
              "      <td>12.0</td>\n",
              "      <td>0</td>\n",
              "      <td>1</td>\n",
              "    </tr>\n",
              "    <tr>\n",
              "      <th>1</th>\n",
              "      <td>HarvardX/CB22x/2013_Spring</td>\n",
              "      <td>MHxPC130559898</td>\n",
              "      <td>1</td>\n",
              "      <td>0</td>\n",
              "      <td>0</td>\n",
              "      <td>Other South Asia</td>\n",
              "      <td>Bachelor's</td>\n",
              "      <td>1984.0</td>\n",
              "      <td>m</td>\n",
              "      <td>NaN</td>\n",
              "      <td>2/6/13</td>\n",
              "      <td>11/17/13</td>\n",
              "      <td>NaN</td>\n",
              "      <td>NaN</td>\n",
              "      <td>NaN</td>\n",
              "      <td>NaN</td>\n",
              "      <td>0</td>\n",
              "      <td>0</td>\n",
              "    </tr>\n",
              "    <tr>\n",
              "      <th>2</th>\n",
              "      <td>HarvardX/PH207x/2012_Fall</td>\n",
              "      <td>MHxPC130552712</td>\n",
              "      <td>1</td>\n",
              "      <td>1</td>\n",
              "      <td>1</td>\n",
              "      <td>Egypt</td>\n",
              "      <td>Bachelor's</td>\n",
              "      <td>1985.0</td>\n",
              "      <td>f</td>\n",
              "      <td>0.81</td>\n",
              "      <td>10/20/12</td>\n",
              "      <td>1/18/13</td>\n",
              "      <td>2650.0</td>\n",
              "      <td>32.0</td>\n",
              "      <td>96.0</td>\n",
              "      <td>15.0</td>\n",
              "      <td>0</td>\n",
              "      <td>1</td>\n",
              "    </tr>\n",
              "    <tr>\n",
              "      <th>3</th>\n",
              "      <td>HarvardX/PH278x/2013_Spring</td>\n",
              "      <td>MHxPC130394971</td>\n",
              "      <td>1</td>\n",
              "      <td>1</td>\n",
              "      <td>1</td>\n",
              "      <td>Nigeria</td>\n",
              "      <td>Secondary</td>\n",
              "      <td>1988.0</td>\n",
              "      <td>m</td>\n",
              "      <td>0.87</td>\n",
              "      <td>12/27/12</td>\n",
              "      <td>8/22/13</td>\n",
              "      <td>999.0</td>\n",
              "      <td>17.0</td>\n",
              "      <td>13.0</td>\n",
              "      <td>8.0</td>\n",
              "      <td>0</td>\n",
              "      <td>1</td>\n",
              "    </tr>\n",
              "    <tr>\n",
              "      <th>4</th>\n",
              "      <td>HarvardX/ER22x/2013_Spring</td>\n",
              "      <td>MHxPC130191077</td>\n",
              "      <td>1</td>\n",
              "      <td>1</td>\n",
              "      <td>1</td>\n",
              "      <td>Other Middle East/Central Asia</td>\n",
              "      <td>NaN</td>\n",
              "      <td>NaN</td>\n",
              "      <td>NaN</td>\n",
              "      <td>0.90</td>\n",
              "      <td>5/31/13</td>\n",
              "      <td>9/7/13</td>\n",
              "      <td>2130.0</td>\n",
              "      <td>24.0</td>\n",
              "      <td>NaN</td>\n",
              "      <td>29.0</td>\n",
              "      <td>0</td>\n",
              "      <td>1</td>\n",
              "    </tr>\n",
              "  </tbody>\n",
              "</table>\n",
              "</div>"
            ],
            "text/plain": [
              "                     course_id       userid_DI  ...  nforum_posts  certified\n",
              "0          HarvardX/CS50x/2012  MHxPC130476531  ...             0          1\n",
              "1   HarvardX/CB22x/2013_Spring  MHxPC130559898  ...             0          0\n",
              "2    HarvardX/PH207x/2012_Fall  MHxPC130552712  ...             0          1\n",
              "3  HarvardX/PH278x/2013_Spring  MHxPC130394971  ...             0          1\n",
              "4   HarvardX/ER22x/2013_Spring  MHxPC130191077  ...             0          1\n",
              "\n",
              "[5 rows x 18 columns]"
            ]
          },
          "execution_count": 77,
          "metadata": {
            "tags": []
          },
          "output_type": "execute_result"
        }
      ],
      "source": [
        "test_data.head()"
      ]
    },
    {
      "cell_type": "markdown",
      "metadata": {
        "id": "iE77PZr3aW95"
      },
      "source": [
        "**6. Output the result**"
      ]
    },
    {
      "cell_type": "code",
      "execution_count": 78,
      "metadata": {
        "colab": {
          "base_uri": "https://localhost:8080/",
          "height": 17
        },
        "id": "YM_1PINGS6Cj",
        "outputId": "6bf47451-200e-41fc-e1d6-b6c445d78dc9"
      },
      "outputs": [
        {
          "data": {
            "application/javascript": "\n    async function download(id, filename, size) {\n      if (!google.colab.kernel.accessAllowed) {\n        return;\n      }\n      const div = document.createElement('div');\n      const label = document.createElement('label');\n      label.textContent = `Downloading \"${filename}\": `;\n      div.appendChild(label);\n      const progress = document.createElement('progress');\n      progress.max = size;\n      div.appendChild(progress);\n      document.body.appendChild(div);\n\n      const buffers = [];\n      let downloaded = 0;\n\n      const channel = await google.colab.kernel.comms.open(id);\n      // Send a message to notify the kernel that we're ready.\n      channel.send({})\n\n      for await (const message of channel.messages) {\n        // Send a message to notify the kernel that we're ready.\n        channel.send({})\n        if (message.buffers) {\n          for (const buffer of message.buffers) {\n            buffers.push(buffer);\n            downloaded += buffer.byteLength;\n            progress.value = downloaded;\n          }\n        }\n      }\n      const blob = new Blob(buffers, {type: 'application/binary'});\n      const a = document.createElement('a');\n      a.href = window.URL.createObjectURL(blob);\n      a.download = filename;\n      div.appendChild(a);\n      a.click();\n      div.remove();\n    }\n  ",
            "text/plain": [
              "<IPython.core.display.Javascript object>"
            ]
          },
          "metadata": {
            "tags": []
          },
          "output_type": "display_data"
        },
        {
          "data": {
            "application/javascript": "download(\"download_a99d643c-b769-4b46-ae22-f71bd39ca610\", \"submission4.csv\", 49660)",
            "text/plain": [
              "<IPython.core.display.Javascript object>"
            ]
          },
          "metadata": {
            "tags": []
          },
          "output_type": "display_data"
        }
      ],
      "source": [
        "#save the output to csv format\n",
        "to_save = test_data[['userid_DI', 'certified']].copy()\n",
        "\n",
        "from google.colab import files\n",
        "\n",
        "to_save.to_csv('submission4.csv', index=False) \n",
        "\n",
        "files.download('submission4.csv')"
      ]
    },
    {
      "cell_type": "markdown",
      "metadata": {
        "id": "w9MEHVzh47gb"
      },
      "source": [
        "**Classifier 2: Random Forest Classifier **\n",
        "1. Pre-process the train dataset"
      ]
    },
    {
      "cell_type": "code",
      "execution_count": 79,
      "metadata": {
        "colab": {
          "base_uri": "https://localhost:8080/",
          "height": 258
        },
        "id": "ICy7G7iG4HeL",
        "outputId": "a1ad7d31-b8df-44b2-e6db-2931f2a6ad06"
      },
      "outputs": [
        {
          "data": {
            "text/html": [
              "<div>\n",
              "<style scoped>\n",
              "    .dataframe tbody tr th:only-of-type {\n",
              "        vertical-align: middle;\n",
              "    }\n",
              "\n",
              "    .dataframe tbody tr th {\n",
              "        vertical-align: top;\n",
              "    }\n",
              "\n",
              "    .dataframe thead th {\n",
              "        text-align: right;\n",
              "    }\n",
              "</style>\n",
              "<table border=\"1\" class=\"dataframe\">\n",
              "  <thead>\n",
              "    <tr style=\"text-align: right;\">\n",
              "      <th></th>\n",
              "      <th>registered</th>\n",
              "      <th>viewed</th>\n",
              "      <th>explored</th>\n",
              "      <th>YoB</th>\n",
              "      <th>grade</th>\n",
              "      <th>nevents</th>\n",
              "      <th>ndays_act</th>\n",
              "      <th>nplay_video</th>\n",
              "      <th>nchapters</th>\n",
              "      <th>nforum_posts</th>\n",
              "      <th>certified</th>\n",
              "      <th>course_id_HarvardX/CB22x/2013_Spring</th>\n",
              "      <th>course_id_HarvardX/CS50x/2012</th>\n",
              "      <th>course_id_HarvardX/ER22x/2013_Spring</th>\n",
              "      <th>course_id_HarvardX/PH207x/2012_Fall</th>\n",
              "      <th>course_id_HarvardX/PH278x/2013_Spring</th>\n",
              "      <th>final_cc_cname_DI_Australia</th>\n",
              "      <th>final_cc_cname_DI_Bangladesh</th>\n",
              "      <th>final_cc_cname_DI_Brazil</th>\n",
              "      <th>final_cc_cname_DI_Canada</th>\n",
              "      <th>final_cc_cname_DI_China</th>\n",
              "      <th>final_cc_cname_DI_Colombia</th>\n",
              "      <th>final_cc_cname_DI_Egypt</th>\n",
              "      <th>final_cc_cname_DI_France</th>\n",
              "      <th>final_cc_cname_DI_Germany</th>\n",
              "      <th>final_cc_cname_DI_Greece</th>\n",
              "      <th>final_cc_cname_DI_India</th>\n",
              "      <th>final_cc_cname_DI_Indonesia</th>\n",
              "      <th>final_cc_cname_DI_Japan</th>\n",
              "      <th>final_cc_cname_DI_Mexico</th>\n",
              "      <th>final_cc_cname_DI_Morocco</th>\n",
              "      <th>final_cc_cname_DI_Nigeria</th>\n",
              "      <th>final_cc_cname_DI_Other Africa</th>\n",
              "      <th>final_cc_cname_DI_Other East Asia</th>\n",
              "      <th>final_cc_cname_DI_Other Europe</th>\n",
              "      <th>final_cc_cname_DI_Other Middle East/Central Asia</th>\n",
              "      <th>final_cc_cname_DI_Other North &amp; Central Amer., Caribbean</th>\n",
              "      <th>final_cc_cname_DI_Other Oceania</th>\n",
              "      <th>final_cc_cname_DI_Other South America</th>\n",
              "      <th>final_cc_cname_DI_Other South Asia</th>\n",
              "      <th>final_cc_cname_DI_Pakistan</th>\n",
              "      <th>final_cc_cname_DI_Philippines</th>\n",
              "      <th>final_cc_cname_DI_Poland</th>\n",
              "      <th>final_cc_cname_DI_Portugal</th>\n",
              "      <th>final_cc_cname_DI_Russian Federation</th>\n",
              "      <th>final_cc_cname_DI_Spain</th>\n",
              "      <th>final_cc_cname_DI_Ukraine</th>\n",
              "      <th>final_cc_cname_DI_United Kingdom</th>\n",
              "      <th>final_cc_cname_DI_United States</th>\n",
              "      <th>final_cc_cname_DI_Unknown/Other</th>\n",
              "      <th>LoE_DI_Bachelor's</th>\n",
              "      <th>LoE_DI_Doctorate</th>\n",
              "      <th>LoE_DI_Less than Secondary</th>\n",
              "      <th>LoE_DI_Master's</th>\n",
              "      <th>LoE_DI_Secondary</th>\n",
              "      <th>gender_f</th>\n",
              "      <th>gender_m</th>\n",
              "    </tr>\n",
              "  </thead>\n",
              "  <tbody>\n",
              "    <tr>\n",
              "      <th>0</th>\n",
              "      <td>1</td>\n",
              "      <td>1</td>\n",
              "      <td>1</td>\n",
              "      <td>1984.0</td>\n",
              "      <td>1.00</td>\n",
              "      <td>1161.0</td>\n",
              "      <td>50.0</td>\n",
              "      <td>650.731974</td>\n",
              "      <td>12.0</td>\n",
              "      <td>0</td>\n",
              "      <td>1</td>\n",
              "      <td>0</td>\n",
              "      <td>1</td>\n",
              "      <td>0</td>\n",
              "      <td>0</td>\n",
              "      <td>0</td>\n",
              "      <td>0</td>\n",
              "      <td>0</td>\n",
              "      <td>0</td>\n",
              "      <td>0</td>\n",
              "      <td>0</td>\n",
              "      <td>0</td>\n",
              "      <td>0</td>\n",
              "      <td>0</td>\n",
              "      <td>0</td>\n",
              "      <td>0</td>\n",
              "      <td>0</td>\n",
              "      <td>0</td>\n",
              "      <td>0</td>\n",
              "      <td>0</td>\n",
              "      <td>0</td>\n",
              "      <td>0</td>\n",
              "      <td>0</td>\n",
              "      <td>0</td>\n",
              "      <td>0</td>\n",
              "      <td>0</td>\n",
              "      <td>0</td>\n",
              "      <td>0</td>\n",
              "      <td>0</td>\n",
              "      <td>0</td>\n",
              "      <td>0</td>\n",
              "      <td>0</td>\n",
              "      <td>0</td>\n",
              "      <td>0</td>\n",
              "      <td>0</td>\n",
              "      <td>0</td>\n",
              "      <td>0</td>\n",
              "      <td>0</td>\n",
              "      <td>1</td>\n",
              "      <td>0</td>\n",
              "      <td>0</td>\n",
              "      <td>0</td>\n",
              "      <td>0</td>\n",
              "      <td>1</td>\n",
              "      <td>0</td>\n",
              "      <td>0</td>\n",
              "      <td>1</td>\n",
              "    </tr>\n",
              "    <tr>\n",
              "      <th>1</th>\n",
              "      <td>1</td>\n",
              "      <td>1</td>\n",
              "      <td>1</td>\n",
              "      <td>1985.0</td>\n",
              "      <td>0.85</td>\n",
              "      <td>1360.0</td>\n",
              "      <td>10.0</td>\n",
              "      <td>650.731974</td>\n",
              "      <td>29.0</td>\n",
              "      <td>0</td>\n",
              "      <td>1</td>\n",
              "      <td>0</td>\n",
              "      <td>0</td>\n",
              "      <td>1</td>\n",
              "      <td>0</td>\n",
              "      <td>0</td>\n",
              "      <td>0</td>\n",
              "      <td>0</td>\n",
              "      <td>0</td>\n",
              "      <td>0</td>\n",
              "      <td>0</td>\n",
              "      <td>0</td>\n",
              "      <td>0</td>\n",
              "      <td>0</td>\n",
              "      <td>0</td>\n",
              "      <td>0</td>\n",
              "      <td>0</td>\n",
              "      <td>0</td>\n",
              "      <td>0</td>\n",
              "      <td>0</td>\n",
              "      <td>0</td>\n",
              "      <td>0</td>\n",
              "      <td>0</td>\n",
              "      <td>0</td>\n",
              "      <td>0</td>\n",
              "      <td>0</td>\n",
              "      <td>0</td>\n",
              "      <td>0</td>\n",
              "      <td>0</td>\n",
              "      <td>0</td>\n",
              "      <td>0</td>\n",
              "      <td>0</td>\n",
              "      <td>0</td>\n",
              "      <td>0</td>\n",
              "      <td>0</td>\n",
              "      <td>0</td>\n",
              "      <td>0</td>\n",
              "      <td>1</td>\n",
              "      <td>0</td>\n",
              "      <td>0</td>\n",
              "      <td>0</td>\n",
              "      <td>0</td>\n",
              "      <td>0</td>\n",
              "      <td>1</td>\n",
              "      <td>0</td>\n",
              "      <td>1</td>\n",
              "      <td>0</td>\n",
              "    </tr>\n",
              "    <tr>\n",
              "      <th>2</th>\n",
              "      <td>1</td>\n",
              "      <td>1</td>\n",
              "      <td>1</td>\n",
              "      <td>1987.0</td>\n",
              "      <td>1.00</td>\n",
              "      <td>77.0</td>\n",
              "      <td>18.0</td>\n",
              "      <td>650.731974</td>\n",
              "      <td>7.0</td>\n",
              "      <td>0</td>\n",
              "      <td>1</td>\n",
              "      <td>0</td>\n",
              "      <td>1</td>\n",
              "      <td>0</td>\n",
              "      <td>0</td>\n",
              "      <td>0</td>\n",
              "      <td>0</td>\n",
              "      <td>0</td>\n",
              "      <td>0</td>\n",
              "      <td>0</td>\n",
              "      <td>0</td>\n",
              "      <td>0</td>\n",
              "      <td>0</td>\n",
              "      <td>0</td>\n",
              "      <td>0</td>\n",
              "      <td>0</td>\n",
              "      <td>1</td>\n",
              "      <td>0</td>\n",
              "      <td>0</td>\n",
              "      <td>0</td>\n",
              "      <td>0</td>\n",
              "      <td>0</td>\n",
              "      <td>0</td>\n",
              "      <td>0</td>\n",
              "      <td>0</td>\n",
              "      <td>0</td>\n",
              "      <td>0</td>\n",
              "      <td>0</td>\n",
              "      <td>0</td>\n",
              "      <td>0</td>\n",
              "      <td>0</td>\n",
              "      <td>0</td>\n",
              "      <td>0</td>\n",
              "      <td>0</td>\n",
              "      <td>0</td>\n",
              "      <td>0</td>\n",
              "      <td>0</td>\n",
              "      <td>0</td>\n",
              "      <td>0</td>\n",
              "      <td>0</td>\n",
              "      <td>1</td>\n",
              "      <td>0</td>\n",
              "      <td>0</td>\n",
              "      <td>0</td>\n",
              "      <td>0</td>\n",
              "      <td>0</td>\n",
              "      <td>1</td>\n",
              "    </tr>\n",
              "    <tr>\n",
              "      <th>3</th>\n",
              "      <td>1</td>\n",
              "      <td>1</td>\n",
              "      <td>1</td>\n",
              "      <td>1982.0</td>\n",
              "      <td>0.85</td>\n",
              "      <td>1425.0</td>\n",
              "      <td>29.0</td>\n",
              "      <td>650.731974</td>\n",
              "      <td>34.0</td>\n",
              "      <td>0</td>\n",
              "      <td>1</td>\n",
              "      <td>0</td>\n",
              "      <td>0</td>\n",
              "      <td>1</td>\n",
              "      <td>0</td>\n",
              "      <td>0</td>\n",
              "      <td>0</td>\n",
              "      <td>0</td>\n",
              "      <td>0</td>\n",
              "      <td>0</td>\n",
              "      <td>0</td>\n",
              "      <td>0</td>\n",
              "      <td>0</td>\n",
              "      <td>0</td>\n",
              "      <td>0</td>\n",
              "      <td>0</td>\n",
              "      <td>0</td>\n",
              "      <td>0</td>\n",
              "      <td>0</td>\n",
              "      <td>0</td>\n",
              "      <td>0</td>\n",
              "      <td>0</td>\n",
              "      <td>0</td>\n",
              "      <td>0</td>\n",
              "      <td>0</td>\n",
              "      <td>0</td>\n",
              "      <td>0</td>\n",
              "      <td>0</td>\n",
              "      <td>0</td>\n",
              "      <td>0</td>\n",
              "      <td>0</td>\n",
              "      <td>0</td>\n",
              "      <td>0</td>\n",
              "      <td>0</td>\n",
              "      <td>0</td>\n",
              "      <td>0</td>\n",
              "      <td>0</td>\n",
              "      <td>1</td>\n",
              "      <td>0</td>\n",
              "      <td>0</td>\n",
              "      <td>1</td>\n",
              "      <td>0</td>\n",
              "      <td>0</td>\n",
              "      <td>0</td>\n",
              "      <td>0</td>\n",
              "      <td>0</td>\n",
              "      <td>1</td>\n",
              "    </tr>\n",
              "    <tr>\n",
              "      <th>4</th>\n",
              "      <td>1</td>\n",
              "      <td>1</td>\n",
              "      <td>0</td>\n",
              "      <td>1989.0</td>\n",
              "      <td>0.00</td>\n",
              "      <td>6.0</td>\n",
              "      <td>1.0</td>\n",
              "      <td>650.731974</td>\n",
              "      <td>1.0</td>\n",
              "      <td>0</td>\n",
              "      <td>0</td>\n",
              "      <td>0</td>\n",
              "      <td>1</td>\n",
              "      <td>0</td>\n",
              "      <td>0</td>\n",
              "      <td>0</td>\n",
              "      <td>0</td>\n",
              "      <td>0</td>\n",
              "      <td>0</td>\n",
              "      <td>0</td>\n",
              "      <td>0</td>\n",
              "      <td>0</td>\n",
              "      <td>0</td>\n",
              "      <td>0</td>\n",
              "      <td>0</td>\n",
              "      <td>0</td>\n",
              "      <td>0</td>\n",
              "      <td>0</td>\n",
              "      <td>0</td>\n",
              "      <td>0</td>\n",
              "      <td>0</td>\n",
              "      <td>0</td>\n",
              "      <td>0</td>\n",
              "      <td>0</td>\n",
              "      <td>0</td>\n",
              "      <td>0</td>\n",
              "      <td>0</td>\n",
              "      <td>0</td>\n",
              "      <td>0</td>\n",
              "      <td>0</td>\n",
              "      <td>0</td>\n",
              "      <td>0</td>\n",
              "      <td>0</td>\n",
              "      <td>0</td>\n",
              "      <td>0</td>\n",
              "      <td>0</td>\n",
              "      <td>0</td>\n",
              "      <td>0</td>\n",
              "      <td>1</td>\n",
              "      <td>0</td>\n",
              "      <td>0</td>\n",
              "      <td>0</td>\n",
              "      <td>0</td>\n",
              "      <td>0</td>\n",
              "      <td>1</td>\n",
              "      <td>0</td>\n",
              "      <td>1</td>\n",
              "    </tr>\n",
              "  </tbody>\n",
              "</table>\n",
              "</div>"
            ],
            "text/plain": [
              "   registered  viewed  explored  ...  LoE_DI_Secondary  gender_f  gender_m\n",
              "0           1       1         1  ...                 0         0         1\n",
              "1           1       1         1  ...                 0         1         0\n",
              "2           1       1         1  ...                 0         0         1\n",
              "3           1       1         1  ...                 0         0         1\n",
              "4           1       1         0  ...                 1         0         1\n",
              "\n",
              "[5 rows x 57 columns]"
            ]
          },
          "execution_count": 79,
          "metadata": {
            "tags": []
          },
          "output_type": "execute_result"
        }
      ],
      "source": [
        "# we will continue to use the cleaned and transformed traing dataset \"train_data_new\"\n",
        "\n",
        "# explore the datset again\n",
        "train_data_new.head()"
      ]
    },
    {
      "cell_type": "code",
      "execution_count": 80,
      "metadata": {
        "colab": {
          "base_uri": "https://localhost:8080/"
        },
        "id": "bwonSXGbCOfj",
        "outputId": "60cd6fdc-98fb-44cd-dd41-ea9d1af635be"
      },
      "outputs": [
        {
          "data": {
            "text/plain": [
              "['registered',\n",
              " 'viewed',\n",
              " 'explored',\n",
              " 'YoB',\n",
              " 'grade',\n",
              " 'nevents',\n",
              " 'ndays_act',\n",
              " 'nplay_video',\n",
              " 'nchapters',\n",
              " 'nforum_posts',\n",
              " 'course_id_HarvardX/CB22x/2013_Spring',\n",
              " 'course_id_HarvardX/CS50x/2012',\n",
              " 'course_id_HarvardX/ER22x/2013_Spring',\n",
              " 'course_id_HarvardX/PH207x/2012_Fall',\n",
              " 'course_id_HarvardX/PH278x/2013_Spring',\n",
              " 'final_cc_cname_DI_Australia',\n",
              " 'final_cc_cname_DI_Bangladesh',\n",
              " 'final_cc_cname_DI_Brazil',\n",
              " 'final_cc_cname_DI_Canada',\n",
              " 'final_cc_cname_DI_China',\n",
              " 'final_cc_cname_DI_Colombia',\n",
              " 'final_cc_cname_DI_Egypt',\n",
              " 'final_cc_cname_DI_France',\n",
              " 'final_cc_cname_DI_Germany',\n",
              " 'final_cc_cname_DI_Greece',\n",
              " 'final_cc_cname_DI_India',\n",
              " 'final_cc_cname_DI_Indonesia',\n",
              " 'final_cc_cname_DI_Japan',\n",
              " 'final_cc_cname_DI_Mexico',\n",
              " 'final_cc_cname_DI_Morocco',\n",
              " 'final_cc_cname_DI_Nigeria',\n",
              " 'final_cc_cname_DI_Other Africa',\n",
              " 'final_cc_cname_DI_Other East Asia',\n",
              " 'final_cc_cname_DI_Other Europe',\n",
              " 'final_cc_cname_DI_Other Middle East/Central Asia',\n",
              " 'final_cc_cname_DI_Other North & Central Amer., Caribbean',\n",
              " 'final_cc_cname_DI_Other Oceania',\n",
              " 'final_cc_cname_DI_Other South America',\n",
              " 'final_cc_cname_DI_Other South Asia',\n",
              " 'final_cc_cname_DI_Pakistan',\n",
              " 'final_cc_cname_DI_Philippines',\n",
              " 'final_cc_cname_DI_Poland',\n",
              " 'final_cc_cname_DI_Portugal',\n",
              " 'final_cc_cname_DI_Russian Federation',\n",
              " 'final_cc_cname_DI_Spain',\n",
              " 'final_cc_cname_DI_Ukraine',\n",
              " 'final_cc_cname_DI_United Kingdom',\n",
              " 'final_cc_cname_DI_United States',\n",
              " 'final_cc_cname_DI_Unknown/Other',\n",
              " \"LoE_DI_Bachelor's\",\n",
              " 'LoE_DI_Doctorate',\n",
              " 'LoE_DI_Less than Secondary',\n",
              " \"LoE_DI_Master's\",\n",
              " 'LoE_DI_Secondary',\n",
              " 'gender_f',\n",
              " 'gender_m']"
            ]
          },
          "execution_count": 80,
          "metadata": {
            "tags": []
          },
          "output_type": "execute_result"
        }
      ],
      "source": [
        "# get the features \n",
        "features = list(train_data_new.columns)\n",
        "\n",
        "features.remove('certified')\n",
        "\n",
        "features"
      ]
    },
    {
      "cell_type": "code",
      "execution_count": 81,
      "metadata": {
        "colab": {
          "base_uri": "https://localhost:8080/"
        },
        "id": "2cEc8BKuDVJY",
        "outputId": "b7ef2e06-4934-4e5f-8440-9f95ac9e57f5"
      },
      "outputs": [
        {
          "data": {
            "text/plain": [
              "RandomForestClassifier(bootstrap=True, ccp_alpha=0.0, class_weight=None,\n",
              "                       criterion='gini', max_depth=None, max_features='auto',\n",
              "                       max_leaf_nodes=None, max_samples=None,\n",
              "                       min_impurity_decrease=0.0, min_impurity_split=None,\n",
              "                       min_samples_leaf=1, min_samples_split=2,\n",
              "                       min_weight_fraction_leaf=0.0, n_estimators=100,\n",
              "                       n_jobs=None, oob_score=False, random_state=None,\n",
              "                       verbose=0, warm_start=False)"
            ]
          },
          "execution_count": 81,
          "metadata": {
            "tags": []
          },
          "output_type": "execute_result"
        }
      ],
      "source": [
        "# run the model using random forest classifier\n",
        "from sklearn.ensemble import RandomForestClassifier\n",
        "\n",
        "clf=RandomForestClassifier()\n",
        "\n",
        "clf.fit(X_train, y_train)\n"
      ]
    },
    {
      "cell_type": "code",
      "execution_count": 82,
      "metadata": {
        "colab": {
          "base_uri": "https://localhost:8080/"
        },
        "id": "bBY2kLVwdIjv",
        "outputId": "14deb31c-f3d9-4225-8082-1414ce6d34e0"
      },
      "outputs": [
        {
          "data": {
            "text/plain": [
              "grade                                                       0.333173\n",
              "explored                                                    0.186027\n",
              "ndays_act                                                   0.143623\n",
              "nchapters                                                   0.130697\n",
              "nevents                                                     0.089968\n",
              "viewed                                                      0.048321\n",
              "nplay_video                                                 0.014989\n",
              "final_cc_cname_DI_Unknown/Other                             0.010437\n",
              "course_id_HarvardX/CS50x/2012                               0.007415\n",
              "course_id_HarvardX/ER22x/2013_Spring                        0.006775\n",
              "YoB                                                         0.005219\n",
              "course_id_HarvardX/PH207x/2012_Fall                         0.004257\n",
              "course_id_HarvardX/CB22x/2013_Spring                        0.002375\n",
              "nforum_posts                                                0.001618\n",
              "final_cc_cname_DI_United States                             0.001394\n",
              "LoE_DI_Master's                                             0.001304\n",
              "course_id_HarvardX/PH278x/2013_Spring                       0.001141\n",
              "final_cc_cname_DI_Spain                                     0.000827\n",
              "LoE_DI_Secondary                                            0.000817\n",
              "LoE_DI_Bachelor's                                           0.000771\n",
              "final_cc_cname_DI_India                                     0.000770\n",
              "final_cc_cname_DI_Greece                                    0.000687\n",
              "gender_m                                                    0.000681\n",
              "gender_f                                                    0.000665\n",
              "final_cc_cname_DI_Other Europe                              0.000601\n",
              "final_cc_cname_DI_Other South Asia                          0.000443\n",
              "final_cc_cname_DI_Germany                                   0.000368\n",
              "final_cc_cname_DI_Other Africa                              0.000360\n",
              "final_cc_cname_DI_United Kingdom                            0.000346\n",
              "final_cc_cname_DI_Other South America                       0.000307\n",
              "final_cc_cname_DI_Japan                                     0.000307\n",
              "final_cc_cname_DI_Colombia                                  0.000271\n",
              "final_cc_cname_DI_Canada                                    0.000236\n",
              "final_cc_cname_DI_Egypt                                     0.000228\n",
              "final_cc_cname_DI_Brazil                                    0.000217\n",
              "final_cc_cname_DI_Other North & Central Amer., Caribbean    0.000217\n",
              "LoE_DI_Doctorate                                            0.000216\n",
              "final_cc_cname_DI_Mexico                                    0.000207\n",
              "LoE_DI_Less than Secondary                                  0.000156\n",
              "final_cc_cname_DI_Nigeria                                   0.000153\n",
              "final_cc_cname_DI_Other Middle East/Central Asia            0.000144\n",
              "final_cc_cname_DI_Pakistan                                  0.000143\n",
              "final_cc_cname_DI_Philippines                               0.000141\n",
              "final_cc_cname_DI_Portugal                                  0.000138\n",
              "final_cc_cname_DI_Australia                                 0.000135\n",
              "final_cc_cname_DI_Poland                                    0.000125\n",
              "final_cc_cname_DI_Other East Asia                           0.000124\n",
              "final_cc_cname_DI_Indonesia                                 0.000109\n",
              "final_cc_cname_DI_Ukraine                                   0.000102\n",
              "final_cc_cname_DI_Russian Federation                        0.000074\n",
              "final_cc_cname_DI_France                                    0.000067\n",
              "final_cc_cname_DI_Bangladesh                                0.000055\n",
              "final_cc_cname_DI_Other Oceania                             0.000028\n",
              "final_cc_cname_DI_China                                     0.000017\n",
              "final_cc_cname_DI_Morocco                                   0.000015\n",
              "registered                                                  0.000000\n",
              "dtype: float64"
            ]
          },
          "execution_count": 82,
          "metadata": {
            "tags": []
          },
          "output_type": "execute_result"
        }
      ],
      "source": [
        "# find the feature importance\n",
        "\n",
        "feature_importance = pd.Series(clf.feature_importances_,index=features).sort_values(ascending=False)\n",
        "feature_importance"
      ]
    },
    {
      "cell_type": "code",
      "execution_count": 98,
      "metadata": {
        "id": "wDdhI418dsbm"
      },
      "outputs": [],
      "source": [
        "# select a list of important features using the importance scores shown above. I select 0.01 as the threshold. \n",
        "important_features = ['grade',\n",
        "                      'explored',\n",
        "                      'ndays_act',\n",
        "                      'nchapters',\n",
        "                      'nevents',\n",
        "                      'viewed',\n",
        "                      'nplay_video',\n",
        "                      'final_cc_cname_DI_Unknown/Other'\n",
        "                      ]"
      ]
    },
    {
      "cell_type": "code",
      "execution_count": 99,
      "metadata": {
        "colab": {
          "base_uri": "https://localhost:8080/"
        },
        "id": "aWnFNaWLd-A1",
        "outputId": "1eb6723d-a454-4cbc-fb00-d8c2b8dce4c4"
      },
      "outputs": [
        {
          "name": "stdout",
          "output_type": "stream",
          "text": [
            "{'max_depth': 5, 'n_estimators': 100}\n"
          ]
        }
      ],
      "source": [
        "#tune the hyperparameters and get the most suitable hyperparameters for the model\n",
        "from sklearn.model_selection import GridSearchCV\n",
        "\n",
        "hyperparameters = {'n_estimators': [100, 200, 300], \n",
        "                   'max_depth':[1, 5, 10, 15, 20]\n",
        "                  }\n",
        "\n",
        "clf=RandomForestClassifier()   \n",
        "\n",
        "search = GridSearchCV(estimator = clf, param_grid = hyperparameters, cv=6, n_jobs = -1, return_train_score=True)  \n",
        "\n",
        "print(search.fit(X_train[important_features], y_train).best_params_)"
      ]
    },
    {
      "cell_type": "code",
      "execution_count": 100,
      "metadata": {
        "id": "XWcQpee7hRMc"
      },
      "outputs": [],
      "source": [
        "# run the model again using the most suitable hyperparameters\n",
        "clf=RandomForestClassifier(n_estimators=100, max_depth=5)\n",
        "Random_Forest_Model = clf.fit(X_train[important_features], y_train)"
      ]
    },
    {
      "cell_type": "code",
      "execution_count": 101,
      "metadata": {
        "colab": {
          "base_uri": "https://localhost:8080/"
        },
        "id": "en0p4Vpjhuy_",
        "outputId": "d10949e2-488b-4dfd-a180-f895e4448da8"
      },
      "outputs": [
        {
          "name": "stdout",
          "output_type": "stream",
          "text": [
            "validation accuarcy score: 0.997716894977169\n",
            "train accuracy score: 0.9977161500815661\n"
          ]
        }
      ],
      "source": [
        "# calculate the accuracy score using the validation dataset and training dataset\n",
        "y_pred_val = Random_Forest_Model.predict(X_validation[important_features])\n",
        "y_pred_train = Random_Forest_Model.predict(X_train[important_features])\n",
        "\n",
        "from sklearn.metrics import accuracy_score\n",
        "\n",
        "print(f'validation accuarcy score: {accuracy_score(y_validation, y_pred_val)}')\n",
        "print(f'train accuracy score: {accuracy_score(y_train, y_pred_train)}')"
      ]
    },
    {
      "cell_type": "code",
      "execution_count": 102,
      "metadata": {
        "colab": {
          "base_uri": "https://localhost:8080/",
          "height": 265
        },
        "id": "PmvyYfdOmgGN",
        "outputId": "03ad66b0-7413-4894-ff8b-a63e55585c2f"
      },
      "outputs": [
        {
          "data": {
            "image/png": "[encoded data removed]",
            "text/plain": [
              "<Figure size 432x288 with 2 Axes>"
            ]
          },
          "metadata": {
            "needs_background": "light",
            "tags": []
          },
          "output_type": "display_data"
        }
      ],
      "source": [
        "# plot the confusion matrixs for random forest model\n",
        "\n",
        "def plot_confusion_matrix(tp, fp, fn, tn):\n",
        "    \"\"\"\n",
        "    Plots a confusion matrix using the values \n",
        "       tp - True Positive\n",
        "       fp - False Positive\n",
        "       fn - False Negative\n",
        "       tn - True Negative\n",
        "    \"\"\"\n",
        "    data = np.matrix([[tp, fp], [fn, tn]])\n",
        "\n",
        "    sns.heatmap(data,annot=True,xticklabels=['Actual Pos', 'Actual Neg']\n",
        "              ,yticklabels=['Pred. Pos', 'Pred. Neg']) \n",
        "\n",
        "y_pred_randomforest = Random_Forest_Model.predict(X_test[important_features])\n",
        "df_confusion = pd.crosstab(y_test, y_pred_randomforest, rownames=['Actual'], colnames=['Predicted'])\n",
        "cnf_matrix=np.array(df_confusion)\n",
        "\n",
        "tp=cnf_matrix[1,1]\n",
        "\n",
        "tn=cnf_matrix[0,0]\n",
        "\n",
        "fp=cnf_matrix[0,1]\n",
        "\n",
        "fn=cnf_matrix[1,0]\n",
        "\n",
        "\n",
        "plot_confusion_matrix(tp, fp, fn, tn)"
      ]
    },
    {
      "cell_type": "markdown",
      "metadata": {
        "id": "xURiDgB7yAtW"
      },
      "source": [
        "Insights Learned: The confusion matrixs shows that for random forest model, there are 5 false positive and 0 false negative, which is lower than that of logistic model. "
      ]
    },
    {
      "cell_type": "code",
      "execution_count": 103,
      "metadata": {
        "colab": {
          "base_uri": "https://localhost:8080/",
          "height": 241
        },
        "id": "gHm3dZrxh23Q",
        "outputId": "4cad28d8-278c-47fd-ddc9-f6a4ada794e3"
      },
      "outputs": [
        {
          "data": {
            "text/html": [
              "<div>\n",
              "<style scoped>\n",
              "    .dataframe tbody tr th:only-of-type {\n",
              "        vertical-align: middle;\n",
              "    }\n",
              "\n",
              "    .dataframe tbody tr th {\n",
              "        vertical-align: top;\n",
              "    }\n",
              "\n",
              "    .dataframe thead th {\n",
              "        text-align: right;\n",
              "    }\n",
              "</style>\n",
              "<table border=\"1\" class=\"dataframe\">\n",
              "  <thead>\n",
              "    <tr style=\"text-align: right;\">\n",
              "      <th></th>\n",
              "      <th>course_id</th>\n",
              "      <th>userid_DI</th>\n",
              "      <th>registered</th>\n",
              "      <th>viewed</th>\n",
              "      <th>explored</th>\n",
              "      <th>final_cc_cname_DI</th>\n",
              "      <th>LoE_DI</th>\n",
              "      <th>YoB</th>\n",
              "      <th>gender</th>\n",
              "      <th>grade</th>\n",
              "      <th>start_time_DI</th>\n",
              "      <th>last_event_DI</th>\n",
              "      <th>nevents</th>\n",
              "      <th>ndays_act</th>\n",
              "      <th>nplay_video</th>\n",
              "      <th>nchapters</th>\n",
              "      <th>nforum_posts</th>\n",
              "      <th>certified</th>\n",
              "    </tr>\n",
              "  </thead>\n",
              "  <tbody>\n",
              "    <tr>\n",
              "      <th>0</th>\n",
              "      <td>HarvardX/CS50x/2012</td>\n",
              "      <td>MHxPC130476531</td>\n",
              "      <td>1</td>\n",
              "      <td>1</td>\n",
              "      <td>1</td>\n",
              "      <td>United Kingdom</td>\n",
              "      <td>Secondary</td>\n",
              "      <td>1971.0</td>\n",
              "      <td>m</td>\n",
              "      <td>1.00</td>\n",
              "      <td>10/30/12</td>\n",
              "      <td>6/27/13</td>\n",
              "      <td>132.0</td>\n",
              "      <td>34.0</td>\n",
              "      <td>NaN</td>\n",
              "      <td>12.0</td>\n",
              "      <td>0</td>\n",
              "      <td>1</td>\n",
              "    </tr>\n",
              "    <tr>\n",
              "      <th>1</th>\n",
              "      <td>HarvardX/CB22x/2013_Spring</td>\n",
              "      <td>MHxPC130559898</td>\n",
              "      <td>1</td>\n",
              "      <td>0</td>\n",
              "      <td>0</td>\n",
              "      <td>Other South Asia</td>\n",
              "      <td>Bachelor's</td>\n",
              "      <td>1984.0</td>\n",
              "      <td>m</td>\n",
              "      <td>NaN</td>\n",
              "      <td>2/6/13</td>\n",
              "      <td>11/17/13</td>\n",
              "      <td>NaN</td>\n",
              "      <td>NaN</td>\n",
              "      <td>NaN</td>\n",
              "      <td>NaN</td>\n",
              "      <td>0</td>\n",
              "      <td>0</td>\n",
              "    </tr>\n",
              "    <tr>\n",
              "      <th>2</th>\n",
              "      <td>HarvardX/PH207x/2012_Fall</td>\n",
              "      <td>MHxPC130552712</td>\n",
              "      <td>1</td>\n",
              "      <td>1</td>\n",
              "      <td>1</td>\n",
              "      <td>Egypt</td>\n",
              "      <td>Bachelor's</td>\n",
              "      <td>1985.0</td>\n",
              "      <td>f</td>\n",
              "      <td>0.81</td>\n",
              "      <td>10/20/12</td>\n",
              "      <td>1/18/13</td>\n",
              "      <td>2650.0</td>\n",
              "      <td>32.0</td>\n",
              "      <td>96.0</td>\n",
              "      <td>15.0</td>\n",
              "      <td>0</td>\n",
              "      <td>1</td>\n",
              "    </tr>\n",
              "    <tr>\n",
              "      <th>3</th>\n",
              "      <td>HarvardX/PH278x/2013_Spring</td>\n",
              "      <td>MHxPC130394971</td>\n",
              "      <td>1</td>\n",
              "      <td>1</td>\n",
              "      <td>1</td>\n",
              "      <td>Nigeria</td>\n",
              "      <td>Secondary</td>\n",
              "      <td>1988.0</td>\n",
              "      <td>m</td>\n",
              "      <td>0.87</td>\n",
              "      <td>12/27/12</td>\n",
              "      <td>8/22/13</td>\n",
              "      <td>999.0</td>\n",
              "      <td>17.0</td>\n",
              "      <td>13.0</td>\n",
              "      <td>8.0</td>\n",
              "      <td>0</td>\n",
              "      <td>1</td>\n",
              "    </tr>\n",
              "    <tr>\n",
              "      <th>4</th>\n",
              "      <td>HarvardX/ER22x/2013_Spring</td>\n",
              "      <td>MHxPC130191077</td>\n",
              "      <td>1</td>\n",
              "      <td>1</td>\n",
              "      <td>1</td>\n",
              "      <td>Other Middle East/Central Asia</td>\n",
              "      <td>NaN</td>\n",
              "      <td>NaN</td>\n",
              "      <td>NaN</td>\n",
              "      <td>0.90</td>\n",
              "      <td>5/31/13</td>\n",
              "      <td>9/7/13</td>\n",
              "      <td>2130.0</td>\n",
              "      <td>24.0</td>\n",
              "      <td>NaN</td>\n",
              "      <td>29.0</td>\n",
              "      <td>0</td>\n",
              "      <td>1</td>\n",
              "    </tr>\n",
              "  </tbody>\n",
              "</table>\n",
              "</div>"
            ],
            "text/plain": [
              "                     course_id       userid_DI  ...  nforum_posts  certified\n",
              "0          HarvardX/CS50x/2012  MHxPC130476531  ...             0          1\n",
              "1   HarvardX/CB22x/2013_Spring  MHxPC130559898  ...             0          0\n",
              "2    HarvardX/PH207x/2012_Fall  MHxPC130552712  ...             0          1\n",
              "3  HarvardX/PH278x/2013_Spring  MHxPC130394971  ...             0          1\n",
              "4   HarvardX/ER22x/2013_Spring  MHxPC130191077  ...             0          1\n",
              "\n",
              "[5 rows x 18 columns]"
            ]
          },
          "execution_count": 103,
          "metadata": {
            "tags": []
          },
          "output_type": "execute_result"
        }
      ],
      "source": [
        "#use test_data_new to make predictions\n",
        "\n",
        "X_test_randomforest = test_data_new[important_features]\n",
        "\n",
        "y_pred_test_randomforest = Random_Forest_Model.predict(X_test_randomforest)\n",
        "\n",
        "test_data ['certified'] = y_pred_test_randomforest\n",
        "\n",
        "test_data.head()\n"
      ]
    },
    {
      "cell_type": "code",
      "execution_count": 104,
      "metadata": {
        "colab": {
          "base_uri": "https://localhost:8080/",
          "height": 17
        },
        "id": "RWDH_p96jbcQ",
        "outputId": "a6cdce5a-46ce-4928-d03d-75bba07a7d86"
      },
      "outputs": [
        {
          "data": {
            "application/javascript": "\n    async function download(id, filename, size) {\n      if (!google.colab.kernel.accessAllowed) {\n        return;\n      }\n      const div = document.createElement('div');\n      const label = document.createElement('label');\n      label.textContent = `Downloading \"${filename}\": `;\n      div.appendChild(label);\n      const progress = document.createElement('progress');\n      progress.max = size;\n      div.appendChild(progress);\n      document.body.appendChild(div);\n\n      const buffers = [];\n      let downloaded = 0;\n\n      const channel = await google.colab.kernel.comms.open(id);\n      // Send a message to notify the kernel that we're ready.\n      channel.send({})\n\n      for await (const message of channel.messages) {\n        // Send a message to notify the kernel that we're ready.\n        channel.send({})\n        if (message.buffers) {\n          for (const buffer of message.buffers) {\n            buffers.push(buffer);\n            downloaded += buffer.byteLength;\n            progress.value = downloaded;\n          }\n        }\n      }\n      const blob = new Blob(buffers, {type: 'application/binary'});\n      const a = document.createElement('a');\n      a.href = window.URL.createObjectURL(blob);\n      a.download = filename;\n      div.appendChild(a);\n      a.click();\n      div.remove();\n    }\n  ",
            "text/plain": [
              "<IPython.core.display.Javascript object>"
            ]
          },
          "metadata": {
            "tags": []
          },
          "output_type": "display_data"
        },
        {
          "data": {
            "application/javascript": "download(\"download_ea7f7698-f125-452c-9c4b-64babd19e93d\", \"submission5.csv\", 49660)",
            "text/plain": [
              "<IPython.core.display.Javascript object>"
            ]
          },
          "metadata": {
            "tags": []
          },
          "output_type": "display_data"
        }
      ],
      "source": [
        "#output the predictions to csv format\n",
        "\n",
        "to_save = test_data[['userid_DI', 'certified']].copy()\n",
        "\n",
        "from google.colab import files\n",
        "\n",
        "to_save.to_csv('submission5.csv', index=False) \n",
        "\n",
        "files.download('submission5.csv')"
      ]
    },
    {
      "cell_type": "markdown",
      "metadata": {
        "id": "pQCGEHQZjKF-"
      },
      "source": [
        "**Classifer 3: AdaBoosting Classifier**"
      ]
    },
    {
      "cell_type": "code",
      "execution_count": 105,
      "metadata": {
        "colab": {
          "base_uri": "https://localhost:8080/"
        },
        "id": "I8h9JbvQj03k",
        "outputId": "13e96236-2bf0-4ad7-f280-5c38525a6793"
      },
      "outputs": [
        {
          "name": "stdout",
          "output_type": "stream",
          "text": [
            "{'n_estimators': 50}\n"
          ]
        }
      ],
      "source": [
        "##use AdaBoosting classifier\n",
        "\n",
        "from sklearn.ensemble import AdaBoostClassifier\n",
        "\n",
        "#tune the hyperparameters for AdaBoosting\n",
        "hyperparameters_ab = {'n_estimators': [50, 100, 200, 300, 400, 500, 1000]}\n",
        "\n",
        "clf=RandomForestClassifier()   \n",
        "\n",
        "search_ab = GridSearchCV(estimator = clf, param_grid = hyperparameters_ab, cv=6, n_jobs = -1, return_train_score=True)  \n",
        "\n",
        "print(search_ab.fit(X_train[important_features], y_train).best_params_)"
      ]
    },
    {
      "cell_type": "code",
      "execution_count": 106,
      "metadata": {
        "id": "YRxHkjhFl2GJ"
      },
      "outputs": [],
      "source": [
        "# Create adaboost classifer object using the most suitable hyperparameters\n",
        "abc = AdaBoostClassifier(n_estimators=50,\n",
        "                         learning_rate=1)\n",
        "\n",
        "# Train Adaboost Classifer\n",
        "abc_model = abc.fit(X_train[important_features], y_train)"
      ]
    },
    {
      "cell_type": "code",
      "execution_count": 107,
      "metadata": {
        "colab": {
          "base_uri": "https://localhost:8080/"
        },
        "id": "JAr6ODE8j2EV",
        "outputId": "17483c73-b844-4370-bcb2-2d8d033d3765"
      },
      "outputs": [
        {
          "name": "stdout",
          "output_type": "stream",
          "text": [
            "0.997716894977169\n",
            "0.999836867862969\n"
          ]
        }
      ],
      "source": [
        "# calcualte the accuracy store using the validation dataset\n",
        "y_pred_val_abc = abc_model.predict(X_validation[important_features])\n",
        "\n",
        "y_pred_train_abc = abc_model.predict(X_train[important_features])\n",
        "\n",
        "print(accuracy_score(y_validation, y_pred_val_abc))\n",
        "print(accuracy_score(y_train, y_pred_train_abc))"
      ]
    },
    {
      "cell_type": "code",
      "execution_count": 108,
      "metadata": {
        "colab": {
          "base_uri": "https://localhost:8080/",
          "height": 265
        },
        "id": "-TI1IAFRnO9U",
        "outputId": "ca85f70e-19ec-4d9a-eebe-e225dd425369"
      },
      "outputs": [
        {
          "data": {
            "image/png": "[encoded data removed]",
            "text/plain": [
              "<Figure size 432x288 with 2 Axes>"
            ]
          },
          "metadata": {
            "needs_background": "light",
            "tags": []
          },
          "output_type": "display_data"
        }
      ],
      "source": [
        "#plot confusion matrixs for AdaBoosting model\n",
        "\n",
        "def plot_confusion_matrix(tp, fp, fn, tn):\n",
        "    \"\"\"\n",
        "    Plots a confusion matrix using the values \n",
        "       tp - True Positive\n",
        "       fp - False Positive\n",
        "       fn - False Negative\n",
        "       tn - True Negative\n",
        "    \"\"\"\n",
        "    data = np.matrix([[tp, fp], [fn, tn]])\n",
        "\n",
        "    sns.heatmap(data,annot=True,xticklabels=['Actual Pos', 'Actual Neg']\n",
        "              ,yticklabels=['Pred. Pos', 'Pred. Neg']) \n",
        "\n",
        "y_pred_abc = abc_model.predict(X_test[important_features])\n",
        "df_confusion = pd.crosstab(y_test, y_pred_abc, rownames=['Actual'], colnames=['Predicted'])\n",
        "cnf_matrix=np.array(df_confusion)\n",
        "\n",
        "tp=cnf_matrix[1,1]\n",
        "\n",
        "tn=cnf_matrix[0,0]\n",
        "\n",
        "fp=cnf_matrix[0,1]\n",
        "\n",
        "fn=cnf_matrix[1,0]\n",
        "\n",
        "\n",
        "plot_confusion_matrix(tp, fp, fn, tn)"
      ]
    },
    {
      "cell_type": "markdown",
      "metadata": {
        "id": "zlglxuouzOiR"
      },
      "source": [
        "Insights Learned: The confusion matrixs above shows that for AdaBoosting model, there are only 4 false positive and 0 false negative in the test dataset, which performs better than that of logistic regression and random forest classifier. "
      ]
    },
    {
      "cell_type": "code",
      "execution_count": 109,
      "metadata": {
        "id": "9A8AfaV2mAfq"
      },
      "outputs": [],
      "source": [
        "#Predict the response for test dataset\n",
        "\n",
        "y_pred_test_abc = abc_model.predict(X_test_randomforest)\n",
        "\n",
        "test_data['certified'] = y_pred_test_abc"
      ]
    },
    {
      "cell_type": "code",
      "execution_count": 110,
      "metadata": {
        "colab": {
          "base_uri": "https://localhost:8080/",
          "height": 17
        },
        "id": "6DlPtn__mKkc",
        "outputId": "43d650dd-d63f-4dd4-e5ca-1fff551211f2"
      },
      "outputs": [
        {
          "data": {
            "application/javascript": "\n    async function download(id, filename, size) {\n      if (!google.colab.kernel.accessAllowed) {\n        return;\n      }\n      const div = document.createElement('div');\n      const label = document.createElement('label');\n      label.textContent = `Downloading \"${filename}\": `;\n      div.appendChild(label);\n      const progress = document.createElement('progress');\n      progress.max = size;\n      div.appendChild(progress);\n      document.body.appendChild(div);\n\n      const buffers = [];\n      let downloaded = 0;\n\n      const channel = await google.colab.kernel.comms.open(id);\n      // Send a message to notify the kernel that we're ready.\n      channel.send({})\n\n      for await (const message of channel.messages) {\n        // Send a message to notify the kernel that we're ready.\n        channel.send({})\n        if (message.buffers) {\n          for (const buffer of message.buffers) {\n            buffers.push(buffer);\n            downloaded += buffer.byteLength;\n            progress.value = downloaded;\n          }\n        }\n      }\n      const blob = new Blob(buffers, {type: 'application/binary'});\n      const a = document.createElement('a');\n      a.href = window.URL.createObjectURL(blob);\n      a.download = filename;\n      div.appendChild(a);\n      a.click();\n      div.remove();\n    }\n  ",
            "text/plain": [
              "<IPython.core.display.Javascript object>"
            ]
          },
          "metadata": {
            "tags": []
          },
          "output_type": "display_data"
        },
        {
          "data": {
            "application/javascript": "download(\"download_f0e0d8d9-4658-479f-9911-75cdeae4798a\", \"submission6.csv\", 49660)",
            "text/plain": [
              "<IPython.core.display.Javascript object>"
            ]
          },
          "metadata": {
            "tags": []
          },
          "output_type": "display_data"
        }
      ],
      "source": [
        "#output the result\n",
        "to_save = test_data[['userid_DI', 'certified']].copy()\n",
        "\n",
        "from google.colab import files\n",
        "\n",
        "to_save.to_csv('submission6.csv', index=False) \n",
        "\n",
        "files.download('submission6.csv')"
      ]
    },
    {
      "cell_type": "code",
      "execution_count": 111,
      "metadata": {
        "colab": {
          "base_uri": "https://localhost:8080/",
          "height": 431
        },
        "id": "J4gUcr3Ak3_r",
        "outputId": "a6bcd3a1-694f-446c-b175-3f1cbcce9f38"
      },
      "outputs": [
        {
          "name": "stderr",
          "output_type": "stream",
          "text": [
            "/usr/local/lib/python3.7/dist-packages/sklearn/linear_model/_logistic.py:940: ConvergenceWarning: lbfgs failed to converge (status=1):\n",
            "STOP: TOTAL NO. of ITERATIONS REACHED LIMIT.\n",
            "\n",
            "Increase the number of iterations (max_iter) or scale the data as shown in:\n",
            "    https://scikit-learn.org/stable/modules/preprocessing.html\n",
            "Please also refer to the documentation for alternative solver options:\n",
            "    https://scikit-learn.org/stable/modules/linear_model.html#logistic-regression\n",
            "  extra_warning_msg=_LOGISTIC_SOLVER_CONVERGENCE_MSG)\n"
          ]
        },
        {
          "data": {
            "image/png": "[encoded data removed]",
            "text/plain": [
              "<Figure size 432x288 with 1 Axes>"
            ]
          },
          "metadata": {
            "needs_background": "light",
            "tags": []
          },
          "output_type": "display_data"
        }
      ],
      "source": [
        "from sklearn.metrics import plot_roc_curve\n",
        "from sklearn import metrics\n",
        "import matplotlib.pyplot as plt  \n",
        "\n",
        "lr = LogisticRegression()\n",
        "rd = RandomForestClassifier()\n",
        "ada = AdaBoostClassifier()\n",
        "\n",
        "lr.fit(X_train, y_train)\n",
        "rd.fit(X_train[important_features], y_train)\n",
        "ada.fit(X_train[important_features], y_train)\n",
        "\n",
        "disp = metrics.plot_roc_curve(lr, X_validation, y_validation)\n",
        "metrics.plot_roc_curve(rd,X_validation[important_features], y_validation, ax=disp.ax_)\n",
        "metrics.plot_roc_curve(ada, X_validation[important_features], y_validation, ax=disp.ax_)\n",
        "\n",
        "plt.xlim(0,0.1)\n",
        "plt.title('ROC Curves For Three Classifiers')\n",
        "plt.show()"
      ]
    },
    {
      "cell_type": "markdown",
      "metadata": {
        "id": "Gb4QAJwr0VXz"
      },
      "source": [
        "Insights Learned: The graph above shows the ROC curve for the three classifiers. Since they overlap, I adjust the scale of x-axis so  we can see the distinctions between curves. We can see that AdaBoost classifier and random forest classifer have better performance than logistic regression. I would like to pick AdaBoost as the best classifer since it generates the highest accuracy score. "
      ]
    },
    {
      "cell_type": "markdown",
      "metadata": {
        "id": "vVCQun-w1j5h"
      },
      "source": [
        "Summary:\n",
        "\n",
        "*   Three classifiers (logistic, random forest, AdaBoosting) have been used in predict completion of an online course based on the activity of a student. \n",
        "\n",
        "Data Cleaning & Transformation\n",
        "\n",
        "*   Since the raw training dataset contains many categorical data, I use one-hot encoding to transform those categorical variables into binary numeric variables. \n",
        "*   Many variables have missing values, shown in NaN. To improve the data quality and prediction accuracy, I use imputation method to replace the missing values. For categorical variables, I use mode for missing values.For numeric variables, I use mean. \n",
        "\n",
        "Feature Selection\n",
        "\n",
        "*   For logistic regression, all variables (except 'certified' and 'userID_DI') have been used as features. \n",
        "*   For random forest classifier and AdaBoosting classifier, I generate the feature importance for all the features and use 0.01 as the threshold. Any features with feature importance greater than 0.01 have been selected and used in those two models. \n",
        "*   The most important features in predicting the outcomes are mostly variables closly related to student activities, such as grade, viewed, number of active days, etc. \n",
        "\n",
        "Hyperparameter Tuning:\n",
        "*   For random forest and AdaBoosting, I use gridsearchCV to tune the hyperparameters. It helps to find the most suitable hyperparameters, including n_estimators, max_depth, etc. \n",
        "\n",
        "Model Evaluation:\n",
        "*   I split the cleaned and transformed data into three datasets: train dataset(70%), test dataset(20%) and validation dataset(10%). \n",
        "*   Two methods have been used to evaluate the model performance: accuracy score and confusion matrixs. \n",
        "*   Logistic regression has a 98.8% accuracy on the validation dataset. Random forest and AdaBoosting models have 99.7% and 99.8% accuracy rate, respectively. \n",
        "*   Since the class is slightly imbalanced in the raw dataset, accuracy score may not be the best measure of the model performance. Therefore, I also use confusion matrixs to evaluate how those models will perform on the unseen data. The results show that AdaBoosting classifer has the lowest generalization error. \n",
        "\n",
        "Final Model Selection: \n",
        "*   I select AdaBoosting classifer as the model since it has the best performance on validation dataset and lowest generalization error and it's fast and simple. \n",
        "\n",
        "\n",
        "\n",
        "\n",
        "\n",
        "\n"
      ]
    }
  ],
  "metadata": {
    "colab": {
      "collapsed_sections": [],
      "name": "KaggleReport.ipynb",
      "provenance": []
    },
    "kernelspec": {
      "display_name": "Python 3",
      "name": "python3"
    },
    "language_info": {
      "name": "python"
    }
  },
  "nbformat": 4,
  "nbformat_minor": 0
}
